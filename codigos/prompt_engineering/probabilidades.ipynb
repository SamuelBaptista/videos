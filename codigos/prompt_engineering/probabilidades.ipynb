{
 "cells": [
  {
   "cell_type": "code",
   "execution_count": 1,
   "metadata": {},
   "outputs": [],
   "source": [
    "from repenseai.genai.agent import Agent\n",
    "from repenseai.genai.tasks.api import Task\n",
    "\n",
    "from repenseai.utils.text import extract_json_text"
   ]
  },
  {
   "cell_type": "code",
   "execution_count": 2,
   "metadata": {},
   "outputs": [],
   "source": [
    "import re\n",
    "\n",
    "def extract_tag(text: str, tag: str) -> str:\n",
    "    try:\n",
    "        pattern = fr\"(?<=<{tag}>)([\\s\\S]*?)(?=</{tag}>)\"\n",
    "        extracted_text = re.search(pattern, text).group(0).strip()\n",
    "    except Exception as e:\n",
    "        print(e)\n",
    "        return text\n",
    "\n",
    "    return extracted_text"
   ]
  },
  {
   "cell_type": "code",
   "execution_count": 3,
   "metadata": {},
   "outputs": [],
   "source": [
    "system_prompt = \"\"\"\n",
    "# TASK\n",
    "\n",
    "Você é um renomado professor universitário que ensina probabilidade aos seus alunos.\n",
    "Você é capaz de calcular a probabilidade de qualquer coisa.\n",
    "\n",
    "# OUTPUT\n",
    "\n",
    "Use o output para raciocinar sobre o problema.\n",
    "Sua resposta final deve ser um número (float) entre chaves triplas.\n",
    "\n",
    "## OUTPUT SAMPLE\n",
    "\n",
    "<reasoning>\n",
    "Sua lógica\n",
    "</reasoning>\n",
    "\n",
    "```\n",
    "float\n",
    "```\n",
    "\"\"\"\n",
    "\n",
    "user_message1 = \"\"\"\n",
    "Eu montei um negócio de tecnologia que constrói soluções de inteligência artificial para empresas.\n",
    "Qual a probabilidade do negócio ser um sucesso?\n",
    "\"\"\"\n",
    "\n",
    "user_message2 = \"\"\"\n",
    "Eu montei um negócio de tecnologia que constrói soluções de inteligência artificial para empresas.\n",
    "Qual a probabilidade de conseguir 1000 clientes em 1 ano?\n",
    "\"\"\"\n",
    "\n",
    "user_message3 = \"\"\"\n",
    "Eu montei um negócio de tecnologia que constrói soluções de inteligência artificial para empresas.\n",
    "Criei um canal no youtube e quero calcular a probabilidade de conseguir 1000 inscritos em 1 ano.\n",
    "\"\"\""
   ]
  },
  {
   "cell_type": "code",
   "execution_count": 4,
   "metadata": {},
   "outputs": [
    {
     "name": "stderr",
     "output_type": "stream",
     "text": [
      "2025-05-31 08:58:56 - INFO - HTTP Request: POST https://api.openai.com/v1/chat/completions \"HTTP/1.1 200 OK\"\n"
     ]
    }
   ],
   "source": [
    "agent = Agent(\n",
    "    model=\"gpt-4.1\",\n",
    "    model_type=\"chat\",\n",
    ")\n",
    "\n",
    "history = {\n",
    "    \"role\": \"system\",\n",
    "    \"content\": system_prompt\n",
    "}\n",
    "\n",
    "task = Task(\n",
    "    user=user_message1,\n",
    "    history=[history],\n",
    "    agent=agent,\n",
    "    simple_response=True\n",
    ")\n",
    "\n",
    "response = task.run()"
   ]
  },
  {
   "cell_type": "code",
   "execution_count": 5,
   "metadata": {},
   "outputs": [
    {
     "name": "stdout",
     "output_type": "stream",
     "text": [
      "1.00%\n"
     ]
    }
   ],
   "source": [
    "print(f\"{float(extract_json_text(response)):.2%}\")"
   ]
  },
  {
   "cell_type": "code",
   "execution_count": 6,
   "metadata": {},
   "outputs": [
    {
     "name": "stdout",
     "output_type": "stream",
     "text": [
      "Para calcular a probabilidade de conseguir 1000 clientes em um ano em um negócio de tecnologia de IA, precisamos considerar vários fatores:\n",
      "\n",
      "1. *Tamanho do mercado*: Quantas empresas potenciais podem se interessar pelo que você oferece.\n",
      "2. *Proposta de valor*: Seu produto é inovador/resolve uma dor relevante?\n",
      "3. *Capacidade de entrega*: Seu time consegue entregar soluções personalizadas ou em escala para 1000 clientes em 1 ano?\n",
      "4. *Recursos comerciais e marketing*: Você possui equipe de vendas qualificada, verba para aquisição de clientes e estratégia de marketing eficaz?\n",
      "5. *Ciclo de vendas*: Empresas que compram soluções de IA costumam ter ciclos de vendas longos (3-12 meses).\n",
      "6. *Concorrência*: O mercado está saturado? Você tem diferencial competitivo?\n",
      "7. *Reputação/Branding*: Seu negócio é conhecido? Tem cases ou autoridade no tema?\n",
      "\n",
      "No cenário brasileiro, startups B2B high-tech (como IA para empresas) dificilmente conseguem atingir 1000 clientes em apenas 1 ano, considerando ciclos de vendas longos, desafios de escalabilidade, necessidade de customização e a necessidade de conquistar confiança do mercado.\n",
      "\n",
      "*Exemplos reais*: Muitas startups B2B consideram variáveis como “custo de aquisição do cliente (CAC)”, “taxa de conversão de leads”, “tamanho da equipe comercial”, “prazo médio de fechamento”.\n",
      "\n",
      "Se você não tem um produto “self-service”/plataforma muito acessível (modelo SaaS puro), 1000 clientes em 1 ano é muito agressivo. A maioria das startups de IA para empresas fecha, em média, 10-100 contratos no primeiro ano, em melhores cenários.\n",
      "\n",
      "Portanto, sem investimentos massivos, networks excepcionais ou diferenciais brutais, a probabilidade é muito baixa.\n"
     ]
    }
   ],
   "source": [
    "print(extract_tag(response, \"reasoning\"))"
   ]
  },
  {
   "cell_type": "code",
   "execution_count": null,
   "metadata": {},
   "outputs": [],
   "source": []
  }
 ],
 "metadata": {
  "kernelspec": {
   "display_name": ".venv",
   "language": "python",
   "name": "python3"
  },
  "language_info": {
   "codemirror_mode": {
    "name": "ipython",
    "version": 3
   },
   "file_extension": ".py",
   "mimetype": "text/x-python",
   "name": "python",
   "nbconvert_exporter": "python",
   "pygments_lexer": "ipython3",
   "version": "3.12.7"
  }
 },
 "nbformat": 4,
 "nbformat_minor": 2
}
