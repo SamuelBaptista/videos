{
 "cells": [
  {
   "cell_type": "code",
   "execution_count": 1,
   "metadata": {},
   "outputs": [],
   "source": [
    "from repenseai.genai.agent import Agent\n",
    "from repenseai.genai.tasks.api import Task\n",
    "\n",
    "from repenseai.utils.text import extract_json_text"
   ]
  },
  {
   "cell_type": "code",
   "execution_count": 2,
   "metadata": {},
   "outputs": [],
   "source": [
    "import re\n",
    "\n",
    "def extract_tag(text: str, tag: str) -> str:\n",
    "    try:\n",
    "        pattern = fr\"(?<=<{tag}>)([\\s\\S]*?)(?=</{tag}>)\"\n",
    "        extracted_text = re.search(pattern, text).group(0).strip()\n",
    "    except Exception as e:\n",
    "        print(e)\n",
    "        return text\n",
    "\n",
    "    return extracted_text"
   ]
  },
  {
   "cell_type": "code",
   "execution_count": 10,
   "metadata": {},
   "outputs": [],
   "source": [
    "system_prompt = \"\"\"\n",
    "# TASK\n",
    "\n",
    "Você é um renomado professor universitário que ensina probabilidade aos seus alunos.\n",
    "Você é capaz de calcular a probabilidade de qualquer coisa.\n",
    "\n",
    "# OUTPUT\n",
    "\n",
    "Use o output para raciocinar sobre o problema.\n",
    "Sua resposta final deve ser um número (float) entre chaves triplas.\n",
    "\n",
    "## OUTPUT FORMATING\n",
    "\n",
    "Itálico\n",
    "Para escrever sua mensagem em itálico, insira o sinal de sublinhado antes e depois do texto:\n",
    "_texto_\n",
    "Negrito\n",
    "Para escrever sua mensagem em negrito, insira um asterisco antes e depois do texto:\n",
    "*texto*\n",
    "Tachado\n",
    "Para tachar sua mensagem, insira um til antes e depois do texto:\n",
    "~texto~\n",
    "Monoespaçado\n",
    "Para escrever sua mensagem monoespaçada, insira três sinais graves antes e depois do texto:\n",
    "```texto```\n",
    "Lista com marcadores\n",
    "Para adicionar uma lista com marcadores à mensagem, insira um asterisco ou um hífen e um espaço antes de cada palavra ou frase:\n",
    "* texto\n",
    "* texto\n",
    "Outra opção:\n",
    "- texto\n",
    "- texto\n",
    "Lista enumerada\n",
    "Para adicionar uma lista enumerada à mensagem, insira um número, um ponto e um espaço antes de cada linha de texto:\n",
    "1. texto\n",
    "2. texto\n",
    "Citação\n",
    "Para adicionar uma citação à sua mensagem, insira um sinal \"maior que\" antes do texto:\n",
    "> texto\n",
    "Linha de código\n",
    "Para adicionar uma linha de código à mensagem, insira um acento grave dos dois lados do texto:\n",
    "`texto`\n",
    "\n",
    "## OUTPUT SAMPLE\n",
    "\n",
    "<reasoning>\n",
    "Sua lógica\n",
    "</reasoning>\n",
    "\n",
    "```\n",
    "float\n",
    "```\n",
    "\"\"\"\n",
    "\n",
    "user_message1 = \"\"\"\n",
    "Eu montei um negócio de tecnologia que constrói soluções de inteligência artificial para empresas.\n",
    "Qual a probabilidade do negócio ser um sucesso?\n",
    "\"\"\"\n",
    "\n",
    "user_message2 = \"\"\"\n",
    "Eu montei um negócio de tecnologia que constrói soluções de inteligência artificial para empresas.\n",
    "Qual a probabilidade de conseguir 1000 clientes em 1 ano?\n",
    "\"\"\"\n",
    "\n",
    "user_message3 = \"\"\"\n",
    "Eu montei um negócio de tecnologia que constrói soluções de inteligência artificial para empresas.\n",
    "Criei um canal no youtube e quero calcular a probabilidade de conseguir 1000 inscritos em 1 ano.\n",
    "\"\"\""
   ]
  },
  {
   "cell_type": "code",
   "execution_count": 14,
   "metadata": {},
   "outputs": [
    {
     "name": "stderr",
     "output_type": "stream",
     "text": [
      "2025-06-01 11:36:49 - INFO - HTTP Request: POST https://api.openai.com/v1/chat/completions \"HTTP/1.1 200 OK\"\n"
     ]
    }
   ],
   "source": [
    "agent = Agent(\n",
    "    model=\"gpt-4.1\",\n",
    "    model_type=\"chat\",\n",
    ")\n",
    "\n",
    "history = {\n",
    "    \"role\": \"system\",\n",
    "    \"content\": system_prompt\n",
    "}\n",
    "\n",
    "task = Task(\n",
    "    user=user_message2,\n",
    "    history=[history],\n",
    "    agent=agent,\n",
    "    simple_response=True\n",
    ")\n",
    "\n",
    "response = task.run()"
   ]
  },
  {
   "cell_type": "code",
   "execution_count": 15,
   "metadata": {},
   "outputs": [
    {
     "name": "stdout",
     "output_type": "stream",
     "text": [
      "1.00%\n"
     ]
    }
   ],
   "source": [
    "print(f\"{float(extract_json_text(response)):.2%}\")"
   ]
  },
  {
   "cell_type": "code",
   "execution_count": 16,
   "metadata": {},
   "outputs": [
    {
     "name": "stdout",
     "output_type": "stream",
     "text": [
      "Para calcular a probabilidade de uma empresa de tecnologia especializada em inteligência artificial conseguir 1000 clientes em 1 ano, precisamos considerar algumas variáveis cruciais:\n",
      "\n",
      "1. *Taxa média de conversão*: Quantos clientes você consegue fechar, em média, a cada abordagem ou campanha.\n",
      "2. *Volume de leads qualificados*: Quantas empresas podem ser clientes em potencial do seu negócio ao longo de um ano.\n",
      "3. *Ticket médio*: Empresas que compram soluções de IA normalmente fecham contratos de maior valor, e o processo de venda é mais consultivo e demorado.\n",
      "4. *Recursos disponíveis*: Quantidade de vendedores, budget para marketing, reconhecimento de marca, networking prévio etc.\n",
      "5. *Experiência e Cases*: Empresas buscam referências, então o quão consolidado está seu portfólio pode ser decisivo.\n",
      "\n",
      "Empresas B2B de tecnologia levam tempo para fechar contratos e, especialmente em IA, o ciclo de vendas costuma ser de meses. Conseguir 1000 clientes (empresas) B2B em 1 ano é uma meta extremamente ousada, geralmente atingível apenas por soluções muito baratas, automáticas ou com forte apelo de volume (como SaaS muito baratos e auto-serviço).\n",
      "\n",
      "Para fins ilustrativos, suponhamos um cenário otimista:\n",
      "- 5% de taxa de conversão (já alta para B2B consultivo)\n",
      "- Necessidade de aprox. 20.000 leads qualificados no ano\n",
      "- Produto focado em pequenas empresas ou tickets baixos\n",
      "\n",
      "Pouquíssimas empresas B2B de IA atingem tal volume no 1º ano.\n",
      "\n",
      "Logo, mesmo em cenários otimistas, a probabilidade é bastante baixa — próxima de zero para negócios tradicionais de IA sob demanda.\n"
     ]
    }
   ],
   "source": [
    "print(extract_tag(response, \"reasoning\"))"
   ]
  },
  {
   "cell_type": "code",
   "execution_count": null,
   "metadata": {},
   "outputs": [],
   "source": []
  }
 ],
 "metadata": {
  "kernelspec": {
   "display_name": ".venv",
   "language": "python",
   "name": "python3"
  },
  "language_info": {
   "codemirror_mode": {
    "name": "ipython",
    "version": 3
   },
   "file_extension": ".py",
   "mimetype": "text/x-python",
   "name": "python",
   "nbconvert_exporter": "python",
   "pygments_lexer": "ipython3",
   "version": "3.12.7"
  }
 },
 "nbformat": 4,
 "nbformat_minor": 2
}
