{
 "cells": [
  {
   "cell_type": "code",
   "execution_count": 6,
   "id": "5b816cf0",
   "metadata": {},
   "outputs": [
    {
     "data": {
      "text/plain": [
       "['deepseek-chat',\n",
       " 'deepseek-reasoner',\n",
       " 'sabia-3',\n",
       " 'sabiazinho-3',\n",
       " 'gpt-4o-mini',\n",
       " 'gpt-4o',\n",
       " 'gpt-4.1',\n",
       " 'gpt-4.1-mini',\n",
       " 'gpt-4.1-nano',\n",
       " 'o1',\n",
       " 'o1-mini',\n",
       " 'o1-pro',\n",
       " 'o3-mini',\n",
       " 'o3',\n",
       " 'o4-mini',\n",
       " 'claude-3-5-haiku-20241022',\n",
       " 'claude-3-5-sonnet-20241022',\n",
       " 'claude-3-7-sonnet-20250219',\n",
       " 'gemini-2.5-pro-exp-03-25',\n",
       " 'gemini-1.5-pro',\n",
       " 'gemini-1.5-flash',\n",
       " 'gemini-2.0-flash',\n",
       " 'gemini-2.0-flash-lite-preview-02-05',\n",
       " 'mistral-large-latest',\n",
       " 'mistral-small-latest',\n",
       " 'pixtral-12b-2409',\n",
       " 'command-r-plus-08-2024',\n",
       " 'command-r-08-2024',\n",
       " 'llama-3.3-70b-versatile',\n",
       " 'Meta-Llama-3.1-405B-Instruct',\n",
       " 'meta-llama/Llama-3.2-11B-Vision-Instruct-Turbo',\n",
       " 'meta-llama/Llama-3.2-90B-Vision-Instruct-Turbo',\n",
       " 'meta-llama/Llama-3.3-70B-Instruct-Turbo',\n",
       " 'meta-llama/Meta-Llama-3.1-70B-Instruct-Turbo',\n",
       " 'Qwen/Qwen2-VL-72B-Instruct',\n",
       " 'meta-llama/Llama-4-Scout-17B-16E-Instruct',\n",
       " 'meta-llama/Llama-4-Maverick-17B-128E-Instruct-FP8',\n",
       " 'mistralai/Mistral-7B-Instruct-v0.2',\n",
       " 'grok-2',\n",
       " 'grok-2-vision',\n",
       " 'grok-3',\n",
       " 'grok-3-fast',\n",
       " 'grok-3-mini',\n",
       " 'grok-3-mini-fast',\n",
       " 'amazon.nova-pro-v1:0',\n",
       " 'amazon.nova-lite-v1:0',\n",
       " 'amazon.nova-micro-v1:0',\n",
       " 'writer/palmyra-med-70b',\n",
       " 'writer/palmyra-med-70b-32k']"
      ]
     },
     "execution_count": 6,
     "metadata": {},
     "output_type": "execute_result"
    }
   ],
   "source": [
    "from repenseai.genai.agent import list_models\n",
    "list_models('chat')"
   ]
  },
  {
   "cell_type": "code",
   "execution_count": 5,
   "id": "3cd6412b",
   "metadata": {},
   "outputs": [
    {
     "name": "stdout",
     "output_type": "stream",
     "text": [
      "\n",
      "Processing model: claude-3-5-sonnet-20241022\n"
     ]
    },
    {
     "name": "stderr",
     "output_type": "stream",
     "text": [
      "2025-04-18 10:40:01 - INFO - HTTP Request: POST https://api.anthropic.com/v1/messages \"HTTP/1.1 200 OK\"\n"
     ]
    },
    {
     "name": "stdout",
     "output_type": "stream",
     "text": [
      "Completed: baseline\n"
     ]
    },
    {
     "name": "stderr",
     "output_type": "stream",
     "text": [
      "2025-04-18 10:40:03 - INFO - HTTP Request: POST https://api.anthropic.com/v1/messages \"HTTP/1.1 200 OK\"\n"
     ]
    },
    {
     "name": "stdout",
     "output_type": "stream",
     "text": [
      "Completed: nested_parentheses\n"
     ]
    },
    {
     "name": "stderr",
     "output_type": "stream",
     "text": [
      "2025-04-18 10:40:03 - INFO - HTTP Request: POST https://api.anthropic.com/v1/messages \"HTTP/1.1 200 OK\"\n"
     ]
    },
    {
     "name": "stdout",
     "output_type": "stream",
     "text": [
      "Completed: exponents\n"
     ]
    },
    {
     "name": "stderr",
     "output_type": "stream",
     "text": [
      "2025-04-18 10:40:04 - INFO - HTTP Request: POST https://api.anthropic.com/v1/messages \"HTTP/1.1 200 OK\"\n"
     ]
    },
    {
     "name": "stdout",
     "output_type": "stream",
     "text": [
      "Completed: mixed_operations\n"
     ]
    },
    {
     "name": "stderr",
     "output_type": "stream",
     "text": [
      "2025-04-18 10:40:05 - INFO - HTTP Request: POST https://api.anthropic.com/v1/messages \"HTTP/1.1 200 OK\"\n"
     ]
    },
    {
     "name": "stdout",
     "output_type": "stream",
     "text": [
      "Completed: basic_arithmetic\n"
     ]
    },
    {
     "name": "stderr",
     "output_type": "stream",
     "text": [
      "2025-04-18 10:40:05 - INFO - HTTP Request: POST https://api.anthropic.com/v1/messages \"HTTP/1.1 200 OK\"\n"
     ]
    },
    {
     "name": "stdout",
     "output_type": "stream",
     "text": [
      "Completed: large_division\n"
     ]
    },
    {
     "name": "stderr",
     "output_type": "stream",
     "text": [
      "2025-04-18 10:40:07 - INFO - HTTP Request: POST https://api.anthropic.com/v1/messages \"HTTP/1.1 200 OK\"\n"
     ]
    },
    {
     "name": "stdout",
     "output_type": "stream",
     "text": [
      "Completed: complex_fractions\n"
     ]
    },
    {
     "name": "stderr",
     "output_type": "stream",
     "text": [
      "2025-04-18 10:40:07 - INFO - HTTP Request: POST https://api.anthropic.com/v1/messages \"HTTP/1.1 200 OK\"\n"
     ]
    },
    {
     "name": "stdout",
     "output_type": "stream",
     "text": [
      "Completed: scientific_notation\n"
     ]
    },
    {
     "name": "stderr",
     "output_type": "stream",
     "text": [
      "2025-04-18 10:40:08 - INFO - HTTP Request: POST https://api.anthropic.com/v1/messages \"HTTP/1.1 200 OK\"\n"
     ]
    },
    {
     "name": "stdout",
     "output_type": "stream",
     "text": [
      "Completed: complex_roots\n"
     ]
    },
    {
     "name": "stderr",
     "output_type": "stream",
     "text": [
      "2025-04-18 10:40:09 - INFO - HTTP Request: POST https://api.anthropic.com/v1/messages \"HTTP/1.1 200 OK\"\n"
     ]
    },
    {
     "name": "stdout",
     "output_type": "stream",
     "text": [
      "Completed: trigonometry\n"
     ]
    },
    {
     "name": "stderr",
     "output_type": "stream",
     "text": [
      "2025-04-18 10:40:09 - INFO - HTTP Request: POST https://api.anthropic.com/v1/messages \"HTTP/1.1 200 OK\"\n"
     ]
    },
    {
     "name": "stdout",
     "output_type": "stream",
     "text": [
      "Completed: logarithms\n",
      "\n",
      "claude-3-5-sonnet-20241022 - baseline:\n",
      "Predicted: 2.0\n",
      "Actual: 2.0\n",
      "\n",
      "claude-3-5-sonnet-20241022 - nested_parentheses:\n",
      "Predicted: 494.0\n",
      "Actual: 454.0\n",
      "\n",
      "claude-3-5-sonnet-20241022 - exponents:\n",
      "Predicted: 1.8446744073709552e+19\n",
      "Actual: 1.8446744053652326e+19\n",
      "\n",
      "claude-3-5-sonnet-20241022 - mixed_operations:\n",
      "Predicted: 200.0\n",
      "Actual: 100.0\n",
      "\n",
      "claude-3-5-sonnet-20241022 - basic_arithmetic:\n",
      "Predicted: 2.8960196201625335e+39\n",
      "Actual: 2.895899854031399e+36\n",
      "\n",
      "claude-3-5-sonnet-20241022 - large_division:\n",
      "Predicted: 8000000016000000.0\n",
      "Actual: 8000000080.900001\n",
      "\n",
      "claude-3-5-sonnet-20241022 - complex_fractions:\n",
      "Predicted: 0.025\n",
      "Actual: 0.09166666666666667\n",
      "\n",
      "claude-3-5-sonnet-20241022 - scientific_notation:\n",
      "Predicted: 1e+18\n",
      "Actual: 1e+18\n",
      "\n",
      "claude-3-5-sonnet-20241022 - complex_roots:\n",
      "Predicted: 65.0\n",
      "Actual: 125.0\n",
      "\n",
      "claude-3-5-sonnet-20241022 - trigonometry:\n",
      "Predicted: 1.9330127018922194\n",
      "Actual: -6.5068406525273135\n",
      "\n",
      "claude-3-5-sonnet-20241022 - logarithms:\n",
      "Predicted: 25.0\n",
      "Actual: 30.815510557964274\n",
      "\n",
      "Processing model: gpt-4.1\n"
     ]
    },
    {
     "name": "stderr",
     "output_type": "stream",
     "text": [
      "2025-04-18 10:40:11 - INFO - HTTP Request: POST https://api.openai.com/v1/chat/completions \"HTTP/1.1 200 OK\"\n",
      "2025-04-18 10:40:11 - INFO - HTTP Request: POST https://api.openai.com/v1/chat/completions \"HTTP/1.1 200 OK\"\n"
     ]
    },
    {
     "name": "stdout",
     "output_type": "stream",
     "text": [
      "Completed: baseline\n",
      "Completed: basic_arithmetic\n"
     ]
    },
    {
     "name": "stderr",
     "output_type": "stream",
     "text": [
      "2025-04-18 10:40:12 - INFO - HTTP Request: POST https://api.openai.com/v1/chat/completions \"HTTP/1.1 200 OK\"\n"
     ]
    },
    {
     "name": "stdout",
     "output_type": "stream",
     "text": [
      "Completed: large_division\n"
     ]
    },
    {
     "name": "stderr",
     "output_type": "stream",
     "text": [
      "2025-04-18 10:40:12 - INFO - HTTP Request: POST https://api.openai.com/v1/chat/completions \"HTTP/1.1 200 OK\"\n"
     ]
    },
    {
     "name": "stdout",
     "output_type": "stream",
     "text": [
      "Completed: exponents\n"
     ]
    },
    {
     "name": "stderr",
     "output_type": "stream",
     "text": [
      "2025-04-18 10:40:13 - INFO - HTTP Request: POST https://api.openai.com/v1/chat/completions \"HTTP/1.1 200 OK\"\n",
      "2025-04-18 10:40:13 - INFO - HTTP Request: POST https://api.openai.com/v1/chat/completions \"HTTP/1.1 200 OK\"\n"
     ]
    },
    {
     "name": "stdout",
     "output_type": "stream",
     "text": [
      "Completed: nested_parentheses\n",
      "Completed: mixed_operations\n"
     ]
    },
    {
     "name": "stderr",
     "output_type": "stream",
     "text": [
      "2025-04-18 10:40:14 - INFO - HTTP Request: POST https://api.openai.com/v1/chat/completions \"HTTP/1.1 200 OK\"\n"
     ]
    },
    {
     "name": "stdout",
     "output_type": "stream",
     "text": [
      "Completed: scientific_notation\n"
     ]
    },
    {
     "name": "stderr",
     "output_type": "stream",
     "text": [
      "2025-04-18 10:40:15 - INFO - HTTP Request: POST https://api.openai.com/v1/chat/completions \"HTTP/1.1 200 OK\"\n"
     ]
    },
    {
     "name": "stdout",
     "output_type": "stream",
     "text": [
      "Completed: complex_roots\n"
     ]
    },
    {
     "name": "stderr",
     "output_type": "stream",
     "text": [
      "2025-04-18 10:40:16 - INFO - HTTP Request: POST https://api.openai.com/v1/chat/completions \"HTTP/1.1 200 OK\"\n"
     ]
    },
    {
     "name": "stdout",
     "output_type": "stream",
     "text": [
      "Completed: logarithms\n"
     ]
    },
    {
     "name": "stderr",
     "output_type": "stream",
     "text": [
      "2025-04-18 10:40:16 - INFO - HTTP Request: POST https://api.openai.com/v1/chat/completions \"HTTP/1.1 200 OK\"\n"
     ]
    },
    {
     "name": "stdout",
     "output_type": "stream",
     "text": [
      "Completed: complex_fractions\n"
     ]
    },
    {
     "name": "stderr",
     "output_type": "stream",
     "text": [
      "2025-04-18 10:40:18 - INFO - HTTP Request: POST https://api.openai.com/v1/chat/completions \"HTTP/1.1 200 OK\"\n"
     ]
    },
    {
     "name": "stdout",
     "output_type": "stream",
     "text": [
      "Completed: trigonometry\n",
      "\n",
      "gpt-4.1 - baseline:\n",
      "Predicted: 2.0\n",
      "Actual: 2.0\n",
      "\n",
      "gpt-4.1 - basic_arithmetic:\n",
      "Predicted: 2.895899852717331e+39\n",
      "Actual: 2.895899854031399e+36\n",
      "\n",
      "gpt-4.1 - large_division:\n",
      "Predicted: 8000000072.0\n",
      "Actual: 8000000080.900001\n",
      "\n",
      "gpt-4.1 - exponents:\n",
      "Predicted: None\n",
      "Actual: 1.8446744053652326e+19\n",
      "\n",
      "gpt-4.1 - nested_parentheses:\n",
      "Predicted: 436.0\n",
      "Actual: 454.0\n",
      "\n",
      "gpt-4.1 - mixed_operations:\n",
      "Predicted: 250.0\n",
      "Actual: 100.0\n",
      "\n",
      "gpt-4.1 - scientific_notation:\n",
      "Predicted: None\n",
      "Actual: 1e+18\n",
      "\n",
      "gpt-4.1 - complex_roots:\n",
      "Predicted: 130.0\n",
      "Actual: 125.0\n",
      "\n",
      "gpt-4.1 - logarithms:\n",
      "Predicted: 27.0\n",
      "Actual: 30.815510557964274\n",
      "\n",
      "gpt-4.1 - complex_fractions:\n",
      "Predicted: 0.175\n",
      "Actual: 0.09166666666666667\n",
      "\n",
      "gpt-4.1 - trigonometry:\n",
      "Predicted: 1.618253968\n",
      "Actual: -6.5068406525273135\n",
      "\n",
      "Processing model: o4-mini\n"
     ]
    },
    {
     "name": "stderr",
     "output_type": "stream",
     "text": [
      "2025-04-18 10:40:20 - INFO - HTTP Request: POST https://api.openai.com/v1/chat/completions \"HTTP/1.1 200 OK\"\n"
     ]
    },
    {
     "name": "stdout",
     "output_type": "stream",
     "text": [
      "Completed: baseline\n"
     ]
    },
    {
     "name": "stderr",
     "output_type": "stream",
     "text": [
      "2025-04-18 10:40:22 - INFO - HTTP Request: POST https://api.openai.com/v1/chat/completions \"HTTP/1.1 200 OK\"\n"
     ]
    },
    {
     "name": "stdout",
     "output_type": "stream",
     "text": [
      "Completed: nested_parentheses\n"
     ]
    },
    {
     "name": "stderr",
     "output_type": "stream",
     "text": [
      "2025-04-18 10:40:26 - INFO - HTTP Request: POST https://api.openai.com/v1/chat/completions \"HTTP/1.1 200 OK\"\n"
     ]
    },
    {
     "name": "stdout",
     "output_type": "stream",
     "text": [
      "Completed: complex_fractions\n"
     ]
    },
    {
     "name": "stderr",
     "output_type": "stream",
     "text": [
      "2025-04-18 10:40:26 - INFO - HTTP Request: POST https://api.openai.com/v1/chat/completions \"HTTP/1.1 200 OK\"\n"
     ]
    },
    {
     "name": "stdout",
     "output_type": "stream",
     "text": [
      "Completed: mixed_operations\n"
     ]
    },
    {
     "name": "stderr",
     "output_type": "stream",
     "text": [
      "2025-04-18 10:40:32 - INFO - HTTP Request: POST https://api.openai.com/v1/chat/completions \"HTTP/1.1 200 OK\"\n"
     ]
    },
    {
     "name": "stdout",
     "output_type": "stream",
     "text": [
      "Completed: scientific_notation\n"
     ]
    },
    {
     "name": "stderr",
     "output_type": "stream",
     "text": [
      "2025-04-18 10:40:33 - INFO - HTTP Request: POST https://api.openai.com/v1/chat/completions \"HTTP/1.1 200 OK\"\n"
     ]
    },
    {
     "name": "stdout",
     "output_type": "stream",
     "text": [
      "Completed: trigonometry\n"
     ]
    },
    {
     "name": "stderr",
     "output_type": "stream",
     "text": [
      "2025-04-18 10:40:37 - INFO - HTTP Request: POST https://api.openai.com/v1/chat/completions \"HTTP/1.1 200 OK\"\n"
     ]
    },
    {
     "name": "stdout",
     "output_type": "stream",
     "text": [
      "Completed: complex_roots\n"
     ]
    },
    {
     "name": "stderr",
     "output_type": "stream",
     "text": [
      "2025-04-18 10:40:39 - INFO - HTTP Request: POST https://api.openai.com/v1/chat/completions \"HTTP/1.1 200 OK\"\n"
     ]
    },
    {
     "name": "stdout",
     "output_type": "stream",
     "text": [
      "Completed: logarithms\n"
     ]
    },
    {
     "name": "stderr",
     "output_type": "stream",
     "text": [
      "2025-04-18 10:40:46 - INFO - HTTP Request: POST https://api.openai.com/v1/chat/completions \"HTTP/1.1 200 OK\"\n"
     ]
    },
    {
     "name": "stdout",
     "output_type": "stream",
     "text": [
      "Completed: exponents\n"
     ]
    },
    {
     "name": "stderr",
     "output_type": "stream",
     "text": [
      "2025-04-18 10:41:00 - INFO - HTTP Request: POST https://api.openai.com/v1/chat/completions \"HTTP/1.1 200 OK\"\n"
     ]
    },
    {
     "name": "stdout",
     "output_type": "stream",
     "text": [
      "Completed: large_division\n"
     ]
    },
    {
     "name": "stderr",
     "output_type": "stream",
     "text": [
      "2025-04-18 10:43:07 - INFO - HTTP Request: POST https://api.openai.com/v1/chat/completions \"HTTP/1.1 200 OK\"\n"
     ]
    },
    {
     "name": "stdout",
     "output_type": "stream",
     "text": [
      "Completed: basic_arithmetic\n",
      "\n",
      "o4-mini - baseline:\n",
      "Predicted: 2.0\n",
      "Actual: 2.0\n",
      "\n",
      "o4-mini - nested_parentheses:\n",
      "Predicted: 454.0\n",
      "Actual: 454.0\n",
      "\n",
      "o4-mini - complex_fractions:\n",
      "Predicted: None\n",
      "Actual: 0.09166666666666667\n",
      "\n",
      "o4-mini - mixed_operations:\n",
      "Predicted: 100.0\n",
      "Actual: 100.0\n",
      "\n",
      "o4-mini - scientific_notation:\n",
      "Predicted: 1e+18\n",
      "Actual: 1e+18\n",
      "\n",
      "o4-mini - trigonometry:\n",
      "Predicted: 1.7844570502\n",
      "Actual: -6.5068406525273135\n",
      "\n",
      "o4-mini - complex_roots:\n",
      "Predicted: 125.0\n",
      "Actual: 125.0\n",
      "\n",
      "o4-mini - logarithms:\n",
      "Predicted: 23.0\n",
      "Actual: 30.815510557964274\n",
      "\n",
      "o4-mini - exponents:\n",
      "Predicted: 1.8446744053652326e+19\n",
      "Actual: 1.8446744053652326e+19\n",
      "\n",
      "o4-mini - large_division:\n",
      "Predicted: None\n",
      "Actual: 8000000080.900001\n",
      "\n",
      "o4-mini - basic_arithmetic:\n",
      "Predicted: 2.895899854031399e+36\n",
      "Actual: 2.895899854031399e+36\n",
      "\n",
      "Processing model: deepseek-chat\n"
     ]
    },
    {
     "name": "stderr",
     "output_type": "stream",
     "text": [
      "2025-04-18 10:43:08 - INFO - HTTP Request: POST https://api.deepseek.com/chat/completions \"HTTP/1.1 200 OK\"\n",
      "2025-04-18 10:43:08 - INFO - HTTP Request: POST https://api.deepseek.com/chat/completions \"HTTP/1.1 200 OK\"\n",
      "2025-04-18 10:43:08 - INFO - HTTP Request: POST https://api.deepseek.com/chat/completions \"HTTP/1.1 200 OK\"\n",
      "2025-04-18 10:43:08 - INFO - HTTP Request: POST https://api.deepseek.com/chat/completions \"HTTP/1.1 200 OK\"\n",
      "2025-04-18 10:43:09 - INFO - HTTP Request: POST https://api.deepseek.com/chat/completions \"HTTP/1.1 200 OK\"\n"
     ]
    },
    {
     "name": "stdout",
     "output_type": "stream",
     "text": [
      "Completed: nested_parentheses\n"
     ]
    },
    {
     "name": "stderr",
     "output_type": "stream",
     "text": [
      "2025-04-18 10:43:20 - INFO - HTTP Request: POST https://api.deepseek.com/chat/completions \"HTTP/1.1 200 OK\"\n"
     ]
    },
    {
     "name": "stdout",
     "output_type": "stream",
     "text": [
      "Completed: large_division\n"
     ]
    },
    {
     "name": "stderr",
     "output_type": "stream",
     "text": [
      "2025-04-18 10:43:34 - INFO - HTTP Request: POST https://api.deepseek.com/chat/completions \"HTTP/1.1 200 OK\"\n"
     ]
    },
    {
     "name": "stdout",
     "output_type": "stream",
     "text": [
      "Completed: exponents\n"
     ]
    },
    {
     "name": "stderr",
     "output_type": "stream",
     "text": [
      "2025-04-18 10:43:51 - INFO - HTTP Request: POST https://api.deepseek.com/chat/completions \"HTTP/1.1 200 OK\"\n"
     ]
    },
    {
     "name": "stdout",
     "output_type": "stream",
     "text": [
      "Completed: baseline\n"
     ]
    },
    {
     "name": "stderr",
     "output_type": "stream",
     "text": [
      "2025-04-18 10:43:55 - INFO - HTTP Request: POST https://api.deepseek.com/chat/completions \"HTTP/1.1 200 OK\"\n"
     ]
    },
    {
     "name": "stdout",
     "output_type": "stream",
     "text": [
      "Completed: basic_arithmetic\n"
     ]
    },
    {
     "name": "stderr",
     "output_type": "stream",
     "text": [
      "2025-04-18 10:44:19 - INFO - HTTP Request: POST https://api.deepseek.com/chat/completions \"HTTP/1.1 200 OK\"\n"
     ]
    },
    {
     "name": "stdout",
     "output_type": "stream",
     "text": [
      "Completed: mixed_operations\n"
     ]
    },
    {
     "name": "stderr",
     "output_type": "stream",
     "text": [
      "2025-04-18 10:44:29 - INFO - HTTP Request: POST https://api.deepseek.com/chat/completions \"HTTP/1.1 200 OK\"\n"
     ]
    },
    {
     "name": "stdout",
     "output_type": "stream",
     "text": [
      "Completed: complex_fractions\n",
      "Completed: scientific_notation\n",
      "Completed: trigonometry\n",
      "Completed: logarithms\n",
      "Completed: complex_roots\n",
      "\n",
      "deepseek-chat - nested_parentheses:\n",
      "Predicted: 467.0\n",
      "Actual: 454.0\n",
      "\n",
      "deepseek-chat - large_division:\n",
      "Predicted: 8000000073.0\n",
      "Actual: 8000000080.900001\n",
      "\n",
      "deepseek-chat - exponents:\n",
      "Predicted: 1.8446744073709552e+19\n",
      "Actual: 1.8446744053652326e+19\n",
      "\n",
      "deepseek-chat - baseline:\n",
      "Predicted: 2.0\n",
      "Actual: 2.0\n",
      "\n",
      "deepseek-chat - basic_arithmetic:\n",
      "Predicted: 2.8958998532864333e+48\n",
      "Actual: 2.895899854031399e+36\n",
      "\n",
      "deepseek-chat - mixed_operations:\n",
      "Predicted: 100.0\n",
      "Actual: 100.0\n",
      "\n",
      "deepseek-chat - complex_fractions:\n",
      "Predicted: -0.03666666666666667\n",
      "Actual: 0.09166666666666667\n",
      "\n",
      "deepseek-chat - scientific_notation:\n",
      "Predicted: 1000000000000000.0\n",
      "Actual: 1e+18\n",
      "\n",
      "deepseek-chat - trigonometry:\n",
      "Predicted: 1.760344\n",
      "Actual: -6.5068406525273135\n",
      "\n",
      "deepseek-chat - logarithms:\n",
      "Predicted: 19.0\n",
      "Actual: 30.815510557964274\n",
      "\n",
      "deepseek-chat - complex_roots:\n",
      "Predicted: 65.0\n",
      "Actual: 125.0\n",
      "\n",
      "Processing model: deepseek-reasoner\n"
     ]
    },
    {
     "name": "stderr",
     "output_type": "stream",
     "text": [
      "2025-04-18 10:45:34 - INFO - HTTP Request: POST https://api.deepseek.com/chat/completions \"HTTP/1.1 200 OK\"\n",
      "2025-04-18 10:45:34 - INFO - HTTP Request: POST https://api.deepseek.com/chat/completions \"HTTP/1.1 200 OK\"\n",
      "2025-04-18 10:45:34 - INFO - HTTP Request: POST https://api.deepseek.com/chat/completions \"HTTP/1.1 200 OK\"\n",
      "2025-04-18 10:45:34 - INFO - HTTP Request: POST https://api.deepseek.com/chat/completions \"HTTP/1.1 200 OK\"\n",
      "2025-04-18 10:45:35 - INFO - HTTP Request: POST https://api.deepseek.com/chat/completions \"HTTP/1.1 200 OK\"\n"
     ]
    },
    {
     "name": "stdout",
     "output_type": "stream",
     "text": [
      "Completed: nested_parentheses\n"
     ]
    },
    {
     "name": "stderr",
     "output_type": "stream",
     "text": [
      "2025-04-18 10:45:59 - INFO - HTTP Request: POST https://api.deepseek.com/chat/completions \"HTTP/1.1 200 OK\"\n"
     ]
    },
    {
     "name": "stdout",
     "output_type": "stream",
     "text": [
      "Completed: basic_arithmetic\n"
     ]
    },
    {
     "name": "stderr",
     "output_type": "stream",
     "text": [
      "2025-04-18 10:48:48 - INFO - HTTP Request: POST https://api.deepseek.com/chat/completions \"HTTP/1.1 200 OK\"\n"
     ]
    },
    {
     "name": "stdout",
     "output_type": "stream",
     "text": [
      "Completed: exponents\n"
     ]
    },
    {
     "name": "stderr",
     "output_type": "stream",
     "text": [
      "2025-04-18 10:52:23 - INFO - HTTP Request: POST https://api.deepseek.com/chat/completions \"HTTP/1.1 200 OK\"\n"
     ]
    },
    {
     "name": "stdout",
     "output_type": "stream",
     "text": [
      "Completed: baseline\n"
     ]
    },
    {
     "name": "stderr",
     "output_type": "stream",
     "text": [
      "2025-04-18 10:52:47 - INFO - HTTP Request: POST https://api.deepseek.com/chat/completions \"HTTP/1.1 200 OK\"\n",
      "2025-04-18 10:55:59 - INFO - Erro na chamada da API - modelo deepseek-reasoner: Expecting value: line 10 column 1 (char 9)\n"
     ]
    },
    {
     "name": "stdout",
     "output_type": "stream",
     "text": [
      "Completed: mixed_operations\n"
     ]
    },
    {
     "name": "stderr",
     "output_type": "stream",
     "text": [
      "2025-04-18 10:55:59 - INFO - HTTP Request: POST https://api.deepseek.com/chat/completions \"HTTP/1.1 200 OK\"\n",
      "2025-04-18 10:58:49 - INFO - Erro na chamada da API - modelo deepseek-reasoner: Expecting value: line 10 column 1 (char 9)\n"
     ]
    },
    {
     "name": "stdout",
     "output_type": "stream",
     "text": [
      "Completed: complex_fractions\n"
     ]
    },
    {
     "name": "stderr",
     "output_type": "stream",
     "text": [
      "2025-04-18 10:58:49 - INFO - HTTP Request: POST https://api.deepseek.com/chat/completions \"HTTP/1.1 200 OK\"\n"
     ]
    },
    {
     "name": "stdout",
     "output_type": "stream",
     "text": [
      "Completed: large_division\n",
      "Completed: scientific_notation\n",
      "Completed: trigonometry\n",
      "Completed: logarithms\n",
      "Completed: complex_roots\n",
      "\n",
      "deepseek-reasoner - nested_parentheses:\n",
      "Predicted: 454.0\n",
      "Actual: 454.0\n",
      "\n",
      "deepseek-reasoner - basic_arithmetic:\n",
      "Predicted: 2.8958998583384054e+37\n",
      "Actual: 2.895899854031399e+36\n",
      "\n",
      "deepseek-reasoner - exponents:\n",
      "Predicted: 1.8446744053652326e+19\n",
      "Actual: 1.8446744053652326e+19\n",
      "\n",
      "deepseek-reasoner - baseline:\n",
      "Predicted: None\n",
      "Actual: 2.0\n",
      "\n",
      "deepseek-reasoner - mixed_operations:\n",
      "Predicted: None\n",
      "Actual: 100.0\n",
      "\n",
      "deepseek-reasoner - complex_fractions:\n",
      "Predicted: None\n",
      "Actual: 0.09166666666666667\n",
      "\n",
      "deepseek-reasoner - large_division:\n",
      "Predicted: 8000000008.1\n",
      "Actual: 8000000080.900001\n",
      "\n",
      "deepseek-reasoner - scientific_notation:\n",
      "Predicted: 1e+18\n",
      "Actual: 1e+18\n",
      "\n",
      "deepseek-reasoner - trigonometry:\n",
      "Predicted: 1.7845\n",
      "Actual: -6.5068406525273135\n",
      "\n",
      "deepseek-reasoner - logarithms:\n",
      "Predicted: 23.0\n",
      "Actual: 30.815510557964274\n",
      "\n",
      "deepseek-reasoner - complex_roots:\n",
      "Predicted: 125.0\n",
      "Actual: 125.0\n",
      "\n",
      "=== FINAL ANALYSIS ===\n",
      "\n",
      "claude-3-5-sonnet-20241022:\n",
      "Accuracy: 18.18%\n",
      "\n",
      "gpt-4.1:\n",
      "Accuracy: 9.09%\n",
      "\n",
      "o4-mini:\n",
      "Accuracy: 63.64%\n",
      "\n",
      "deepseek-chat:\n",
      "Accuracy: 18.18%\n",
      "\n",
      "deepseek-reasoner:\n",
      "Accuracy: 36.36%\n"
     ]
    }
   ],
   "source": [
    "import json\n",
    "import numpy as np\n",
    "from typing import Dict, Any\n",
    "from concurrent.futures import ThreadPoolExecutor, as_completed\n",
    "from threading import Lock\n",
    "\n",
    "from repenseai.genai.agent import Agent\n",
    "from repenseai.genai.tasks.api import Task\n",
    "from repenseai.utils.text import extract_json_text\n",
    "\n",
    "MODELS = [\n",
    "    \"claude-3-5-sonnet-20241022\",\n",
    "    \"gpt-4.1\",\n",
    "    \"o4-mini\",\n",
    "    \"deepseek-chat\",\n",
    "    \"deepseek-reasoner\"\n",
    "]\n",
    "\n",
    "# Define equações matemáticas complexas para teste\n",
    "EQUATIONS = {\n",
    "    \"baseline\": \"1 + 1\",\n",
    "    \"basic_arithmetic\": \"2345678901234567890 * 1234567890987654321\",\n",
    "    \"nested_parentheses\": \"(((5 * 7 + 3) * 4 - 2) * 6 + 8) / 2\",\n",
    "    \"exponents\": \"2**64 + 3**21 - 5**15\",\n",
    "    \"large_division\": \"987654321987654321 / 123456789\",\n",
    "    \"mixed_operations\": \"sqrt(3**2 + 4**2) * (15 + 25) / 2\",\n",
    "    \"complex_fractions\": \"(1/3 + 2/5) * (7/8 - 3/4)\",\n",
    "    \"scientific_notation\": \"2.5e20 * 4.8e15 / 1.2e18\",\n",
    "    \"trigonometry\": \"sin(45) + cos(60) + tan(30)\",\n",
    "    \"logarithms\": \"log(1000000) + log2(256) + log10(1000000000)\",\n",
    "    \"complex_roots\": \"((sqrt(169) + sqrt(144)) * sqrt(25))\",\n",
    "}\n",
    "\n",
    "SOLVER_PROMPT = \"\"\"\n",
    "You are a mathematical expert. Solve the following equation and provide your solution and explanation.\n",
    "Always return the final numerical result (not in scientific notation).\n",
    "\n",
    "Equation: {equation}\n",
    "\n",
    "Return your response in the following JSON format:\n",
    "{\n",
    "    \"solution\": <numerical_result>,\n",
    "    \"explanation\": \"Step by step explanation of how you solved it\"\n",
    "}\n",
    "\"\"\"\n",
    "\n",
    "def evaluate_equation(equation: str) -> float:\n",
    "    \"\"\"Avalia a equação usando eval() do Python com funções matemáticas do numpy\"\"\"\n",
    "    namespace = {\n",
    "        'sin': np.sin,\n",
    "        'cos': np.cos,\n",
    "        'tan': np.tan,\n",
    "        'sqrt': np.sqrt,\n",
    "        'log': np.log,\n",
    "        'log2': np.log2,\n",
    "        'log10': np.log10,\n",
    "        'pi': np.pi,\n",
    "        'e': np.e\n",
    "    }\n",
    "    return float(eval(equation, {\"__builtins__\": {}}, namespace))\n",
    "\n",
    "def check_response(predicted: int | float, actual: float) -> bool:\n",
    "    \"\"\"Check if predicted value matches actual value\"\"\"\n",
    "    if predicted == actual:\n",
    "        return True\n",
    "    return abs(predicted - actual) < 1e-10\n",
    "\n",
    "def solve_equation(agent: Agent, eq_name: str, equation: str, print_lock: Lock) -> tuple[str, str]:\n",
    "    \"\"\"Solve a single equation using the agent\"\"\"\n",
    "    task = Task(\n",
    "        user=SOLVER_PROMPT,\n",
    "        agent=agent,\n",
    "        simple_response=True\n",
    "    )\n",
    "    response = task.run({\"equation\": equation})\n",
    "    with print_lock:\n",
    "        print(f\"Completed: {eq_name}\")\n",
    "    return eq_name, response\n",
    "\n",
    "def process_model_results(model_name: str, equations_results: Dict[str, Any], actual_results: Dict[str, float]) -> Dict[str, Any]:\n",
    "    \"\"\"Process results for a single model\"\"\"\n",
    "    model_results = {}\n",
    "    \n",
    "    for eq_name, text_response in equations_results.items():\n",
    "        try:\n",
    "            json_response = extract_json_text(text_response)\n",
    "            response = json.loads(json_response)\n",
    "            predicted = float(response[\"solution\"])\n",
    "            correct = check_response(predicted, actual_results[eq_name])\n",
    "        except Exception as e:\n",
    "            predicted = None\n",
    "            correct = False\n",
    "\n",
    "        model_results[eq_name] = {\n",
    "            \"predicted\": predicted,\n",
    "            \"actual\": actual_results[eq_name],\n",
    "            \"correct\": correct\n",
    "        }\n",
    "        \n",
    "        print(f\"\\n{model_name} - {eq_name}:\")\n",
    "        print(f\"Predicted: {predicted}\")\n",
    "        print(f\"Actual: {actual_results[eq_name]}\")\n",
    "    \n",
    "    return model_results\n",
    "\n",
    "# Calculate actual results\n",
    "actual_results = {name: evaluate_equation(equation) for name, equation in EQUATIONS.items()}\n",
    "results = {}\n",
    "\n",
    "# Process each model\n",
    "for model_name in MODELS:\n",
    "    print(f\"\\nProcessing model: {model_name}\")\n",
    "    \n",
    "    agent = Agent(\n",
    "        model=model_name, \n",
    "        model_type=\"chat\",\n",
    "    )\n",
    "    \n",
    "    equations_results = {}\n",
    "    print_lock = Lock()\n",
    "    \n",
    "    # Create thread pool and submit tasks\n",
    "    with ThreadPoolExecutor(max_workers=5) as executor:\n",
    "        future_to_eq = {\n",
    "            executor.submit(solve_equation, agent, eq_name, equation, print_lock): eq_name \n",
    "            for eq_name, equation in EQUATIONS.items()\n",
    "        }\n",
    "        \n",
    "        # Collect results as they complete\n",
    "        for future in as_completed(future_to_eq):\n",
    "            eq_name, response = future.result()\n",
    "            equations_results[eq_name] = response\n",
    "    \n",
    "    # Process results for this model\n",
    "    results[model_name] = process_model_results(model_name, equations_results, actual_results)\n",
    "\n",
    "# Final Analysis\n",
    "print(\"\\n=== FINAL ANALYSIS ===\")\n",
    "for model_name in MODELS:\n",
    "    correct_count = sum(1 for eq_result in results[model_name].values() if eq_result[\"correct\"])\n",
    "    total_count = len(EQUATIONS)\n",
    "    accuracy = (correct_count / total_count) * 100\n",
    "    print(f\"\\n{model_name}:\")\n",
    "    print(f\"Accuracy: {accuracy:.2f}%\")"
   ]
  },
  {
   "cell_type": "markdown",
   "id": "8c777797",
   "metadata": {},
   "source": [
    "### Reasoning antes da resposta"
   ]
  },
  {
   "cell_type": "code",
   "execution_count": null,
   "id": "923c5750",
   "metadata": {},
   "outputs": [
    {
     "name": "stdout",
     "output_type": "stream",
     "text": [
      "\n",
      "Processing model: claude-3-5-sonnet-20241022\n"
     ]
    },
    {
     "name": "stderr",
     "output_type": "stream",
     "text": [
      "2025-04-18 11:10:19 - INFO - HTTP Request: POST https://api.anthropic.com/v1/messages \"HTTP/1.1 200 OK\"\n",
      "2025-04-18 11:10:19 - INFO - HTTP Request: POST https://api.anthropic.com/v1/messages \"HTTP/1.1 200 OK\"\n",
      "2025-04-18 11:10:19 - INFO - HTTP Request: POST https://api.anthropic.com/v1/messages \"HTTP/1.1 200 OK\"\n"
     ]
    },
    {
     "name": "stdout",
     "output_type": "stream",
     "text": [
      "Completed: baseline\n",
      "Completed: basic_arithmetic\n",
      "Completed: nested_parentheses\n"
     ]
    },
    {
     "name": "stderr",
     "output_type": "stream",
     "text": [
      "2025-04-18 11:10:20 - INFO - HTTP Request: POST https://api.anthropic.com/v1/messages \"HTTP/1.1 200 OK\"\n"
     ]
    },
    {
     "name": "stdout",
     "output_type": "stream",
     "text": [
      "Completed: large_division\n"
     ]
    },
    {
     "name": "stderr",
     "output_type": "stream",
     "text": [
      "2025-04-18 11:10:20 - INFO - HTTP Request: POST https://api.anthropic.com/v1/messages \"HTTP/1.1 200 OK\"\n"
     ]
    },
    {
     "name": "stdout",
     "output_type": "stream",
     "text": [
      "Completed: exponents\n"
     ]
    },
    {
     "name": "stderr",
     "output_type": "stream",
     "text": [
      "2025-04-18 11:10:22 - INFO - HTTP Request: POST https://api.anthropic.com/v1/messages \"HTTP/1.1 200 OK\"\n"
     ]
    },
    {
     "name": "stdout",
     "output_type": "stream",
     "text": [
      "Completed: mixed_operations\n"
     ]
    },
    {
     "name": "stderr",
     "output_type": "stream",
     "text": [
      "2025-04-18 11:10:24 - INFO - HTTP Request: POST https://api.anthropic.com/v1/messages \"HTTP/1.1 200 OK\"\n",
      "2025-04-18 11:10:24 - INFO - HTTP Request: POST https://api.anthropic.com/v1/messages \"HTTP/1.1 200 OK\"\n",
      "2025-04-18 11:10:24 - INFO - HTTP Request: POST https://api.anthropic.com/v1/messages \"HTTP/1.1 200 OK\"\n",
      "2025-04-18 11:10:24 - INFO - HTTP Request: POST https://api.anthropic.com/v1/messages \"HTTP/1.1 200 OK\"\n"
     ]
    },
    {
     "name": "stdout",
     "output_type": "stream",
     "text": [
      "Completed: scientific_notation\n",
      "Completed: trigonometry\n",
      "Completed: logarithms\n",
      "Completed: complex_fractions\n"
     ]
    },
    {
     "name": "stderr",
     "output_type": "stream",
     "text": [
      "2025-04-18 11:10:25 - INFO - HTTP Request: POST https://api.anthropic.com/v1/messages \"HTTP/1.1 200 OK\"\n"
     ]
    },
    {
     "name": "stdout",
     "output_type": "stream",
     "text": [
      "Completed: complex_roots\n",
      "\n",
      "claude-3-5-sonnet-20241022 - baseline:\n",
      "Predicted: 2.0\n",
      "Actual: 2.0\n",
      "\n",
      "claude-3-5-sonnet-20241022 - basic_arithmetic:\n",
      "Predicted: 2.896019960666578e+45\n",
      "Actual: 2.895899854031399e+36\n",
      "\n",
      "claude-3-5-sonnet-20241022 - nested_parentheses:\n",
      "Predicted: 454.0\n",
      "Actual: 454.0\n",
      "\n",
      "claude-3-5-sonnet-20241022 - large_division:\n",
      "Predicted: 8000000007.0\n",
      "Actual: 8000000080.900001\n",
      "\n",
      "claude-3-5-sonnet-20241022 - exponents:\n",
      "Predicted: 1.8446744073689496e+19\n",
      "Actual: 1.8446744053652326e+19\n",
      "\n",
      "claude-3-5-sonnet-20241022 - mixed_operations:\n",
      "Predicted: 100.0\n",
      "Actual: 100.0\n",
      "\n",
      "claude-3-5-sonnet-20241022 - scientific_notation:\n",
      "Predicted: 1e+18\n",
      "Actual: 1e+18\n",
      "\n",
      "claude-3-5-sonnet-20241022 - trigonometry:\n",
      "Predicted: 1.7844570503761732\n",
      "Actual: -6.5068406525273135\n",
      "\n",
      "claude-3-5-sonnet-20241022 - logarithms:\n",
      "Predicted: 30.815510557964274\n",
      "Actual: 30.815510557964274\n",
      "\n",
      "claude-3-5-sonnet-20241022 - complex_fractions:\n",
      "Predicted: 0.09166666666666667\n",
      "Actual: 0.09166666666666667\n",
      "\n",
      "claude-3-5-sonnet-20241022 - complex_roots:\n",
      "Predicted: 125.0\n",
      "Actual: 125.0\n",
      "\n",
      "Processing model: gpt-4.1\n"
     ]
    },
    {
     "name": "stderr",
     "output_type": "stream",
     "text": [
      "2025-04-18 11:10:27 - INFO - HTTP Request: POST https://api.openai.com/v1/chat/completions \"HTTP/1.1 200 OK\"\n"
     ]
    },
    {
     "name": "stdout",
     "output_type": "stream",
     "text": [
      "Completed: baseline\n"
     ]
    },
    {
     "name": "stderr",
     "output_type": "stream",
     "text": [
      "2025-04-18 11:10:28 - INFO - HTTP Request: POST https://api.openai.com/v1/chat/completions \"HTTP/1.1 200 OK\"\n",
      "2025-04-18 11:10:28 - INFO - HTTP Request: POST https://api.openai.com/v1/chat/completions \"HTTP/1.1 200 OK\"\n",
      "2025-04-18 11:10:28 - INFO - HTTP Request: POST https://api.openai.com/v1/chat/completions \"HTTP/1.1 200 OK\"\n"
     ]
    },
    {
     "name": "stdout",
     "output_type": "stream",
     "text": [
      "Completed: nested_parentheses\n",
      "Completed: basic_arithmetic\n",
      "Completed: large_division\n"
     ]
    },
    {
     "name": "stderr",
     "output_type": "stream",
     "text": [
      "2025-04-18 11:10:29 - INFO - HTTP Request: POST https://api.openai.com/v1/chat/completions \"HTTP/1.1 200 OK\"\n"
     ]
    },
    {
     "name": "stdout",
     "output_type": "stream",
     "text": [
      "Completed: exponents\n"
     ]
    },
    {
     "name": "stderr",
     "output_type": "stream",
     "text": [
      "2025-04-18 11:10:30 - INFO - HTTP Request: POST https://api.openai.com/v1/chat/completions \"HTTP/1.1 200 OK\"\n"
     ]
    },
    {
     "name": "stdout",
     "output_type": "stream",
     "text": [
      "Completed: trigonometry\n"
     ]
    },
    {
     "name": "stderr",
     "output_type": "stream",
     "text": [
      "2025-04-18 11:10:30 - INFO - HTTP Request: POST https://api.openai.com/v1/chat/completions \"HTTP/1.1 200 OK\"\n"
     ]
    },
    {
     "name": "stdout",
     "output_type": "stream",
     "text": [
      "Completed: complex_fractions\n"
     ]
    },
    {
     "name": "stderr",
     "output_type": "stream",
     "text": [
      "2025-04-18 11:10:31 - INFO - HTTP Request: POST https://api.openai.com/v1/chat/completions \"HTTP/1.1 200 OK\"\n",
      "2025-04-18 11:10:31 - INFO - HTTP Request: POST https://api.openai.com/v1/chat/completions \"HTTP/1.1 200 OK\"\n"
     ]
    },
    {
     "name": "stdout",
     "output_type": "stream",
     "text": [
      "Completed: complex_roots\n",
      "Completed: scientific_notation\n"
     ]
    },
    {
     "name": "stderr",
     "output_type": "stream",
     "text": [
      "2025-04-18 11:10:31 - INFO - HTTP Request: POST https://api.openai.com/v1/chat/completions \"HTTP/1.1 200 OK\"\n"
     ]
    },
    {
     "name": "stdout",
     "output_type": "stream",
     "text": [
      "Completed: logarithms\n"
     ]
    },
    {
     "name": "stderr",
     "output_type": "stream",
     "text": [
      "2025-04-18 11:10:32 - INFO - HTTP Request: POST https://api.openai.com/v1/chat/completions \"HTTP/1.1 200 OK\"\n"
     ]
    },
    {
     "name": "stdout",
     "output_type": "stream",
     "text": [
      "Completed: mixed_operations\n",
      "\n",
      "gpt-4.1 - baseline:\n",
      "Predicted: 2.0\n",
      "Actual: 2.0\n",
      "\n",
      "gpt-4.1 - nested_parentheses:\n",
      "Predicted: 454.0\n",
      "Actual: 454.0\n",
      "\n",
      "gpt-4.1 - basic_arithmetic:\n",
      "Predicted: 2.895899854691262e+39\n",
      "Actual: 2.895899854031399e+36\n",
      "\n",
      "gpt-4.1 - large_division:\n",
      "Predicted: 8000000081.0\n",
      "Actual: 8000000080.900001\n",
      "\n",
      "gpt-4.1 - exponents:\n",
      "Predicted: 1.8446724016484176e+19\n",
      "Actual: 1.8446744053652326e+19\n",
      "\n",
      "gpt-4.1 - trigonometry:\n",
      "Predicted: 1.7845\n",
      "Actual: -6.5068406525273135\n",
      "\n",
      "gpt-4.1 - complex_fractions:\n",
      "Predicted: 0.09166666666666666\n",
      "Actual: 0.09166666666666667\n",
      "\n",
      "gpt-4.1 - complex_roots:\n",
      "Predicted: 125.0\n",
      "Actual: 125.0\n",
      "\n",
      "gpt-4.1 - scientific_notation:\n",
      "Predicted: 1e+18\n",
      "Actual: 1e+18\n",
      "\n",
      "gpt-4.1 - logarithms:\n",
      "Predicted: 23.0\n",
      "Actual: 30.815510557964274\n",
      "\n",
      "gpt-4.1 - mixed_operations:\n",
      "Predicted: 100.0\n",
      "Actual: 100.0\n",
      "\n",
      "=== FINAL ANALYSIS ===\n",
      "\n",
      "claude-3-5-sonnet-20241022:\n",
      "Accuracy: 63.64%\n",
      "\n",
      "gpt-4.1:\n",
      "Accuracy: 54.55%\n"
     ]
    }
   ],
   "source": [
    "import json\n",
    "import numpy as np\n",
    "from typing import Dict, Any\n",
    "from concurrent.futures import ThreadPoolExecutor, as_completed\n",
    "from threading import Lock\n",
    "\n",
    "from repenseai.genai.agent import Agent\n",
    "from repenseai.genai.tasks.api import Task\n",
    "from repenseai.utils.text import extract_json_text\n",
    "\n",
    "MODELS = [\n",
    "    \"claude-3-5-sonnet-20241022\",\n",
    "    \"gpt-4.1\",\n",
    "]\n",
    "\n",
    "# Define equações matemáticas complexas para teste\n",
    "EQUATIONS = {\n",
    "    \"baseline\": \"1 + 1\",\n",
    "    \"basic_arithmetic\": \"2345678901234567890 * 1234567890987654321\",\n",
    "    \"nested_parentheses\": \"(((5 * 7 + 3) * 4 - 2) * 6 + 8) / 2\",\n",
    "    \"exponents\": \"2**64 + 3**21 - 5**15\",\n",
    "    \"large_division\": \"987654321987654321 / 123456789\",\n",
    "    \"mixed_operations\": \"sqrt(3**2 + 4**2) * (15 + 25) / 2\",\n",
    "    \"complex_fractions\": \"(1/3 + 2/5) * (7/8 - 3/4)\",\n",
    "    \"scientific_notation\": \"2.5e20 * 4.8e15 / 1.2e18\",\n",
    "    \"trigonometry\": \"sin(45) + cos(60) + tan(30)\",\n",
    "    \"logarithms\": \"log(1000000) + log2(256) + log10(1000000000)\",\n",
    "    \"complex_roots\": \"((sqrt(169) + sqrt(144)) * sqrt(25))\",\n",
    "}\n",
    "\n",
    "SOLVER_PROMPT = \"\"\"\n",
    "You are a mathematical expert. Solve the following equation and provide your solution and explanation.\n",
    "Always return the final numerical result (not in scientific notation).\n",
    "\n",
    "Equation: {equation}\n",
    "\n",
    "Return your response in the following JSON format:\n",
    "{\n",
    "    \"explanation\": \"Step by step explanation of how you solved it\",\n",
    "    \"solution\": <numerical_result>\n",
    "}\n",
    "\"\"\"\n",
    "\n",
    "def evaluate_equation(equation: str) -> float:\n",
    "    \"\"\"Avalia a equação usando eval() do Python com funções matemáticas do numpy\"\"\"\n",
    "    namespace = {\n",
    "        'sin': np.sin,\n",
    "        'cos': np.cos,\n",
    "        'tan': np.tan,\n",
    "        'sqrt': np.sqrt,\n",
    "        'log': np.log,\n",
    "        'log2': np.log2,\n",
    "        'log10': np.log10,\n",
    "        'pi': np.pi,\n",
    "        'e': np.e\n",
    "    }\n",
    "    return float(eval(equation, {\"__builtins__\": {}}, namespace))\n",
    "\n",
    "def check_response(predicted: int | float, actual: float) -> bool:\n",
    "    \"\"\"Check if predicted value matches actual value\"\"\"\n",
    "    if predicted == actual:\n",
    "        return True\n",
    "    return abs(predicted - actual) < 1e-10\n",
    "\n",
    "def solve_equation(agent: Agent, eq_name: str, equation: str, print_lock: Lock) -> tuple[str, str]:\n",
    "    \"\"\"Solve a single equation using the agent\"\"\"\n",
    "    task = Task(\n",
    "        user=SOLVER_PROMPT,\n",
    "        agent=agent,\n",
    "        simple_response=True\n",
    "    )\n",
    "    response = task.run({\"equation\": equation})\n",
    "    with print_lock:\n",
    "        print(f\"Completed: {eq_name}\")\n",
    "    return eq_name, response\n",
    "\n",
    "def process_model_results(model_name: str, equations_results: Dict[str, Any], actual_results: Dict[str, float]) -> Dict[str, Any]:\n",
    "    \"\"\"Process results for a single model\"\"\"\n",
    "    model_results = {}\n",
    "    \n",
    "    for eq_name, text_response in equations_results.items():\n",
    "        try:\n",
    "            json_response = extract_json_text(text_response)\n",
    "            response = json.loads(json_response)\n",
    "            predicted = float(response[\"solution\"])\n",
    "            correct = check_response(predicted, actual_results[eq_name])\n",
    "        except Exception as e:\n",
    "            predicted = None\n",
    "            correct = False\n",
    "\n",
    "        model_results[eq_name] = {\n",
    "            \"predicted\": predicted,\n",
    "            \"actual\": actual_results[eq_name],\n",
    "            \"correct\": correct\n",
    "        }\n",
    "        \n",
    "        print(f\"\\n{model_name} - {eq_name}:\")\n",
    "        print(f\"Predicted: {predicted}\")\n",
    "        print(f\"Actual: {actual_results[eq_name]}\")\n",
    "    \n",
    "    return model_results\n",
    "\n",
    "# Calculate actual results\n",
    "actual_results = {name: evaluate_equation(equation) for name, equation in EQUATIONS.items()}\n",
    "results = {}\n",
    "\n",
    "# Process each model\n",
    "for model_name in MODELS:\n",
    "    print(f\"\\nProcessing model: {model_name}\")\n",
    "    \n",
    "    agent = Agent(\n",
    "        model=model_name, \n",
    "        model_type=\"chat\",\n",
    "    )\n",
    "    \n",
    "    equations_results = {}\n",
    "    print_lock = Lock()\n",
    "    \n",
    "    # Create thread pool and submit tasks\n",
    "    with ThreadPoolExecutor(max_workers=5) as executor:\n",
    "        future_to_eq = {\n",
    "            executor.submit(solve_equation, agent, eq_name, equation, print_lock): eq_name \n",
    "            for eq_name, equation in EQUATIONS.items()\n",
    "        }\n",
    "        \n",
    "        # Collect results as they complete\n",
    "        for future in as_completed(future_to_eq):\n",
    "            eq_name, response = future.result()\n",
    "            equations_results[eq_name] = response\n",
    "    \n",
    "    # Process results for this model\n",
    "    results[model_name] = process_model_results(model_name, equations_results, actual_results)\n",
    "\n",
    "# Final Analysis\n",
    "print(\"\\n=== FINAL ANALYSIS ===\")\n",
    "for model_name in MODELS:\n",
    "    correct_count = sum(1 for eq_result in results[model_name].values() if eq_result[\"correct\"])\n",
    "    total_count = len(EQUATIONS)\n",
    "    accuracy = (correct_count / total_count) * 100\n",
    "    print(f\"\\n{model_name}:\")\n",
    "    print(f\"Accuracy: {accuracy:.2f}%\")"
   ]
  },
  {
   "cell_type": "markdown",
   "id": "4a86babc",
   "metadata": {},
   "source": [
    "### Reasoning models"
   ]
  },
  {
   "cell_type": "code",
   "execution_count": 8,
   "id": "0e8b10ed",
   "metadata": {},
   "outputs": [
    {
     "name": "stdout",
     "output_type": "stream",
     "text": [
      "\n",
      "Processing model: o4-mini\n"
     ]
    },
    {
     "name": "stderr",
     "output_type": "stream",
     "text": [
      "2025-04-18 11:18:24 - INFO - HTTP Request: POST https://api.openai.com/v1/chat/completions \"HTTP/1.1 200 OK\"\n"
     ]
    },
    {
     "name": "stdout",
     "output_type": "stream",
     "text": [
      "Completed: nested_parentheses\n"
     ]
    },
    {
     "name": "stderr",
     "output_type": "stream",
     "text": [
      "2025-04-18 11:18:25 - INFO - HTTP Request: POST https://api.openai.com/v1/chat/completions \"HTTP/1.1 200 OK\"\n"
     ]
    },
    {
     "name": "stdout",
     "output_type": "stream",
     "text": [
      "Completed: baseline\n"
     ]
    },
    {
     "name": "stderr",
     "output_type": "stream",
     "text": [
      "2025-04-18 11:18:28 - INFO - HTTP Request: POST https://api.openai.com/v1/chat/completions \"HTTP/1.1 200 OK\"\n"
     ]
    },
    {
     "name": "stdout",
     "output_type": "stream",
     "text": [
      "Completed: mixed_operations\n"
     ]
    },
    {
     "name": "stderr",
     "output_type": "stream",
     "text": [
      "2025-04-18 11:18:33 - INFO - HTTP Request: POST https://api.openai.com/v1/chat/completions \"HTTP/1.1 200 OK\"\n"
     ]
    },
    {
     "name": "stdout",
     "output_type": "stream",
     "text": [
      "Completed: complex_fractions\n"
     ]
    },
    {
     "name": "stderr",
     "output_type": "stream",
     "text": [
      "2025-04-18 11:18:33 - INFO - HTTP Request: POST https://api.openai.com/v1/chat/completions \"HTTP/1.1 200 OK\"\n"
     ]
    },
    {
     "name": "stdout",
     "output_type": "stream",
     "text": [
      "Completed: scientific_notation\n"
     ]
    },
    {
     "name": "stderr",
     "output_type": "stream",
     "text": [
      "2025-04-18 11:18:39 - INFO - HTTP Request: POST https://api.openai.com/v1/chat/completions \"HTTP/1.1 200 OK\"\n"
     ]
    },
    {
     "name": "stdout",
     "output_type": "stream",
     "text": [
      "Completed: trigonometry\n"
     ]
    },
    {
     "name": "stderr",
     "output_type": "stream",
     "text": [
      "2025-04-18 11:18:42 - INFO - HTTP Request: POST https://api.openai.com/v1/chat/completions \"HTTP/1.1 200 OK\"\n"
     ]
    },
    {
     "name": "stdout",
     "output_type": "stream",
     "text": [
      "Completed: complex_roots\n"
     ]
    },
    {
     "name": "stderr",
     "output_type": "stream",
     "text": [
      "2025-04-18 11:18:44 - INFO - HTTP Request: POST https://api.openai.com/v1/chat/completions \"HTTP/1.1 200 OK\"\n"
     ]
    },
    {
     "name": "stdout",
     "output_type": "stream",
     "text": [
      "Completed: logarithms\n"
     ]
    },
    {
     "name": "stderr",
     "output_type": "stream",
     "text": [
      "2025-04-18 11:18:45 - INFO - HTTP Request: POST https://api.openai.com/v1/chat/completions \"HTTP/1.1 200 OK\"\n"
     ]
    },
    {
     "name": "stdout",
     "output_type": "stream",
     "text": [
      "Completed: exponents\n"
     ]
    },
    {
     "name": "stderr",
     "output_type": "stream",
     "text": [
      "2025-04-18 11:19:19 - INFO - HTTP Request: POST https://api.openai.com/v1/chat/completions \"HTTP/1.1 200 OK\"\n"
     ]
    },
    {
     "name": "stdout",
     "output_type": "stream",
     "text": [
      "Completed: large_division\n"
     ]
    },
    {
     "name": "stderr",
     "output_type": "stream",
     "text": [
      "2025-04-18 11:19:38 - INFO - HTTP Request: POST https://api.openai.com/v1/chat/completions \"HTTP/1.1 200 OK\"\n"
     ]
    },
    {
     "name": "stdout",
     "output_type": "stream",
     "text": [
      "Completed: basic_arithmetic\n",
      "\n",
      "o4-mini - nested_parentheses:\n",
      "Predicted: 454.0\n",
      "Actual: 454.0\n",
      "\n",
      "o4-mini - baseline:\n",
      "Predicted: 2.0\n",
      "Actual: 2.0\n",
      "\n",
      "o4-mini - mixed_operations:\n",
      "Predicted: 100.0\n",
      "Actual: 100.0\n",
      "\n",
      "o4-mini - complex_fractions:\n",
      "Predicted: None\n",
      "Actual: 0.09166666666666667\n",
      "\n",
      "o4-mini - scientific_notation:\n",
      "Predicted: 1e+18\n",
      "Actual: 1e+18\n",
      "\n",
      "o4-mini - trigonometry:\n",
      "Predicted: 1.78445705\n",
      "Actual: -6.5068406525273135\n",
      "\n",
      "o4-mini - complex_roots:\n",
      "Predicted: 125.0\n",
      "Actual: 125.0\n",
      "\n",
      "o4-mini - logarithms:\n",
      "Predicted: 23.0\n",
      "Actual: 30.815510557964274\n",
      "\n",
      "o4-mini - exponents:\n",
      "Predicted: 1.8446744053652326e+19\n",
      "Actual: 1.8446744053652326e+19\n",
      "\n",
      "o4-mini - large_division:\n",
      "Predicted: None\n",
      "Actual: 8000000080.900001\n",
      "\n",
      "o4-mini - basic_arithmetic:\n",
      "Predicted: 2.895899854031399e+36\n",
      "Actual: 2.895899854031399e+36\n",
      "\n",
      "Processing model: o3\n"
     ]
    },
    {
     "name": "stderr",
     "output_type": "stream",
     "text": [
      "2025-04-18 11:19:41 - INFO - HTTP Request: POST https://api.openai.com/v1/chat/completions \"HTTP/1.1 200 OK\"\n"
     ]
    },
    {
     "name": "stdout",
     "output_type": "stream",
     "text": [
      "Completed: baseline\n"
     ]
    },
    {
     "name": "stderr",
     "output_type": "stream",
     "text": [
      "2025-04-18 11:19:42 - INFO - HTTP Request: POST https://api.openai.com/v1/chat/completions \"HTTP/1.1 200 OK\"\n"
     ]
    },
    {
     "name": "stdout",
     "output_type": "stream",
     "text": [
      "Completed: nested_parentheses\n"
     ]
    },
    {
     "name": "stderr",
     "output_type": "stream",
     "text": [
      "2025-04-18 11:19:44 - INFO - HTTP Request: POST https://api.openai.com/v1/chat/completions \"HTTP/1.1 200 OK\"\n"
     ]
    },
    {
     "name": "stdout",
     "output_type": "stream",
     "text": [
      "Completed: mixed_operations\n"
     ]
    },
    {
     "name": "stderr",
     "output_type": "stream",
     "text": [
      "2025-04-18 11:19:49 - INFO - HTTP Request: POST https://api.openai.com/v1/chat/completions \"HTTP/1.1 200 OK\"\n"
     ]
    },
    {
     "name": "stdout",
     "output_type": "stream",
     "text": [
      "Completed: complex_fractions\n"
     ]
    },
    {
     "name": "stderr",
     "output_type": "stream",
     "text": [
      "2025-04-18 11:19:50 - INFO - HTTP Request: POST https://api.openai.com/v1/chat/completions \"HTTP/1.1 200 OK\"\n"
     ]
    },
    {
     "name": "stdout",
     "output_type": "stream",
     "text": [
      "Completed: scientific_notation\n"
     ]
    },
    {
     "name": "stderr",
     "output_type": "stream",
     "text": [
      "2025-04-18 11:19:54 - INFO - HTTP Request: POST https://api.openai.com/v1/chat/completions \"HTTP/1.1 200 OK\"\n"
     ]
    },
    {
     "name": "stdout",
     "output_type": "stream",
     "text": [
      "Completed: trigonometry\n"
     ]
    },
    {
     "name": "stderr",
     "output_type": "stream",
     "text": [
      "2025-04-18 11:19:56 - INFO - HTTP Request: POST https://api.openai.com/v1/chat/completions \"HTTP/1.1 200 OK\"\n"
     ]
    },
    {
     "name": "stdout",
     "output_type": "stream",
     "text": [
      "Completed: complex_roots\n"
     ]
    },
    {
     "name": "stderr",
     "output_type": "stream",
     "text": [
      "2025-04-18 11:20:08 - INFO - HTTP Request: POST https://api.openai.com/v1/chat/completions \"HTTP/1.1 200 OK\"\n"
     ]
    },
    {
     "name": "stdout",
     "output_type": "stream",
     "text": [
      "Completed: logarithms\n"
     ]
    },
    {
     "name": "stderr",
     "output_type": "stream",
     "text": [
      "2025-04-18 11:20:14 - INFO - HTTP Request: POST https://api.openai.com/v1/chat/completions \"HTTP/1.1 200 OK\"\n"
     ]
    },
    {
     "name": "stdout",
     "output_type": "stream",
     "text": [
      "Completed: exponents\n"
     ]
    },
    {
     "name": "stderr",
     "output_type": "stream",
     "text": [
      "2025-04-18 11:21:03 - INFO - HTTP Request: POST https://api.openai.com/v1/chat/completions \"HTTP/1.1 200 OK\"\n"
     ]
    },
    {
     "name": "stdout",
     "output_type": "stream",
     "text": [
      "Completed: basic_arithmetic\n"
     ]
    },
    {
     "name": "stderr",
     "output_type": "stream",
     "text": [
      "2025-04-18 11:22:09 - INFO - HTTP Request: POST https://api.openai.com/v1/chat/completions \"HTTP/1.1 200 OK\"\n"
     ]
    },
    {
     "name": "stdout",
     "output_type": "stream",
     "text": [
      "Completed: large_division\n",
      "\n",
      "o3 - baseline:\n",
      "Predicted: 2.0\n",
      "Actual: 2.0\n",
      "\n",
      "o3 - nested_parentheses:\n",
      "Predicted: 454.0\n",
      "Actual: 454.0\n",
      "\n",
      "o3 - mixed_operations:\n",
      "Predicted: 100.0\n",
      "Actual: 100.0\n",
      "\n",
      "o3 - complex_fractions:\n",
      "Predicted: None\n",
      "Actual: 0.09166666666666667\n",
      "\n",
      "o3 - scientific_notation:\n",
      "Predicted: 1e+18\n",
      "Actual: 1e+18\n",
      "\n",
      "o3 - trigonometry:\n",
      "Predicted: 1.784457050376\n",
      "Actual: -6.5068406525273135\n",
      "\n",
      "o3 - complex_roots:\n",
      "Predicted: 125.0\n",
      "Actual: 125.0\n",
      "\n",
      "o3 - logarithms:\n",
      "Predicted: 30.815510557964277\n",
      "Actual: 30.815510557964274\n",
      "\n",
      "o3 - exponents:\n",
      "Predicted: 1.8446744053652326e+19\n",
      "Actual: 1.8446744053652326e+19\n",
      "\n",
      "o3 - basic_arithmetic:\n",
      "Predicted: 2.895899854031399e+36\n",
      "Actual: 2.895899854031399e+36\n",
      "\n",
      "o3 - large_division:\n",
      "Predicted: 8000000080.900001\n",
      "Actual: 8000000080.900001\n",
      "\n",
      "=== FINAL ANALYSIS ===\n",
      "\n",
      "o4-mini:\n",
      "Accuracy: 63.64%\n",
      "\n",
      "o3:\n",
      "Accuracy: 81.82%\n"
     ]
    }
   ],
   "source": [
    "import json\n",
    "import numpy as np\n",
    "from typing import Dict, Any\n",
    "from concurrent.futures import ThreadPoolExecutor, as_completed\n",
    "from threading import Lock\n",
    "\n",
    "from repenseai.genai.agent import Agent\n",
    "from repenseai.genai.tasks.api import Task\n",
    "from repenseai.utils.text import extract_json_text\n",
    "\n",
    "MODELS = [\n",
    "    \"o4-mini\",\n",
    "    \"o3\",\n",
    "]\n",
    "\n",
    "# Define equações matemáticas complexas para teste\n",
    "EQUATIONS = {\n",
    "    \"baseline\": \"1 + 1\",\n",
    "    \"basic_arithmetic\": \"2345678901234567890 * 1234567890987654321\",\n",
    "    \"nested_parentheses\": \"(((5 * 7 + 3) * 4 - 2) * 6 + 8) / 2\",\n",
    "    \"exponents\": \"2**64 + 3**21 - 5**15\",\n",
    "    \"large_division\": \"987654321987654321 / 123456789\",\n",
    "    \"mixed_operations\": \"sqrt(3**2 + 4**2) * (15 + 25) / 2\",\n",
    "    \"complex_fractions\": \"(1/3 + 2/5) * (7/8 - 3/4)\",\n",
    "    \"scientific_notation\": \"2.5e20 * 4.8e15 / 1.2e18\",\n",
    "    \"trigonometry\": \"sin(45) + cos(60) + tan(30)\",\n",
    "    \"logarithms\": \"log(1000000) + log2(256) + log10(1000000000)\",\n",
    "    \"complex_roots\": \"((sqrt(169) + sqrt(144)) * sqrt(25))\",\n",
    "}\n",
    "\n",
    "SOLVER_PROMPT = \"\"\"\n",
    "You are a mathematical expert. Solve the following equation and provide your solution and explanation.\n",
    "Always return the final numerical result (not in scientific notation).\n",
    "\n",
    "Equation: {equation}\n",
    "\n",
    "Return your response in the following JSON format:\n",
    "{\n",
    "    \"explanation\": \"Step by step explanation of how you solved it\",\n",
    "    \"solution\": <numerical_result>\n",
    "}\n",
    "\"\"\"\n",
    "\n",
    "def evaluate_equation(equation: str) -> float:\n",
    "    \"\"\"Avalia a equação usando eval() do Python com funções matemáticas do numpy\"\"\"\n",
    "    namespace = {\n",
    "        'sin': np.sin,\n",
    "        'cos': np.cos,\n",
    "        'tan': np.tan,\n",
    "        'sqrt': np.sqrt,\n",
    "        'log': np.log,\n",
    "        'log2': np.log2,\n",
    "        'log10': np.log10,\n",
    "        'pi': np.pi,\n",
    "        'e': np.e\n",
    "    }\n",
    "    return float(eval(equation, {\"__builtins__\": {}}, namespace))\n",
    "\n",
    "def check_response(predicted: int | float, actual: float) -> bool:\n",
    "    \"\"\"Check if predicted value matches actual value\"\"\"\n",
    "    if predicted == actual:\n",
    "        return True\n",
    "    return abs(predicted - actual) < 1e-10\n",
    "\n",
    "def solve_equation(agent: Agent, eq_name: str, equation: str, print_lock: Lock) -> tuple[str, str]:\n",
    "    \"\"\"Solve a single equation using the agent\"\"\"\n",
    "    task = Task(\n",
    "        user=SOLVER_PROMPT,\n",
    "        agent=agent,\n",
    "        simple_response=True\n",
    "    )\n",
    "    response = task.run({\"equation\": equation})\n",
    "    with print_lock:\n",
    "        print(f\"Completed: {eq_name}\")\n",
    "    return eq_name, response\n",
    "\n",
    "def process_model_results(model_name: str, equations_results: Dict[str, Any], actual_results: Dict[str, float]) -> Dict[str, Any]:\n",
    "    \"\"\"Process results for a single model\"\"\"\n",
    "    model_results = {}\n",
    "    \n",
    "    for eq_name, text_response in equations_results.items():\n",
    "        try:\n",
    "            json_response = extract_json_text(text_response)\n",
    "            response = json.loads(json_response)\n",
    "            predicted = float(response[\"solution\"])\n",
    "            correct = check_response(predicted, actual_results[eq_name])\n",
    "        except Exception as e:\n",
    "            predicted = None\n",
    "            correct = False\n",
    "\n",
    "        model_results[eq_name] = {\n",
    "            \"predicted\": predicted,\n",
    "            \"actual\": actual_results[eq_name],\n",
    "            \"correct\": correct\n",
    "        }\n",
    "        \n",
    "        print(f\"\\n{model_name} - {eq_name}:\")\n",
    "        print(f\"Predicted: {predicted}\")\n",
    "        print(f\"Actual: {actual_results[eq_name]}\")\n",
    "    \n",
    "    return model_results\n",
    "\n",
    "# Calculate actual results\n",
    "actual_results = {name: evaluate_equation(equation) for name, equation in EQUATIONS.items()}\n",
    "results = {}\n",
    "\n",
    "# Process each model\n",
    "for model_name in MODELS:\n",
    "    print(f\"\\nProcessing model: {model_name}\")\n",
    "    \n",
    "    agent = Agent(\n",
    "        model=model_name, \n",
    "        model_type=\"chat\",\n",
    "    )\n",
    "    \n",
    "    equations_results = {}\n",
    "    print_lock = Lock()\n",
    "    \n",
    "    # Create thread pool and submit tasks\n",
    "    with ThreadPoolExecutor(max_workers=5) as executor:\n",
    "        future_to_eq = {\n",
    "            executor.submit(solve_equation, agent, eq_name, equation, print_lock): eq_name \n",
    "            for eq_name, equation in EQUATIONS.items()\n",
    "        }\n",
    "        \n",
    "        # Collect results as they complete\n",
    "        for future in as_completed(future_to_eq):\n",
    "            eq_name, response = future.result()\n",
    "            equations_results[eq_name] = response\n",
    "    \n",
    "    # Process results for this model\n",
    "    results[model_name] = process_model_results(model_name, equations_results, actual_results)\n",
    "\n",
    "# Final Analysis\n",
    "print(\"\\n=== FINAL ANALYSIS ===\")\n",
    "for model_name in MODELS:\n",
    "    correct_count = sum(1 for eq_result in results[model_name].values() if eq_result[\"correct\"])\n",
    "    total_count = len(EQUATIONS)\n",
    "    accuracy = (correct_count / total_count) * 100\n",
    "    print(f\"\\n{model_name}:\")\n",
    "    print(f\"Accuracy: {accuracy:.2f}%\")"
   ]
  },
  {
   "cell_type": "code",
   "execution_count": 1,
   "id": "8d26c46c",
   "metadata": {},
   "outputs": [
    {
     "name": "stdout",
     "output_type": "stream",
     "text": [
      "\n",
      "Processing model: o4-mini\n"
     ]
    },
    {
     "name": "stderr",
     "output_type": "stream",
     "text": [
      "2025-04-18 11:59:35 - INFO - HTTP Request: POST https://api.openai.com/v1/chat/completions \"HTTP/1.1 200 OK\"\n"
     ]
    },
    {
     "name": "stdout",
     "output_type": "stream",
     "text": [
      "Completed: nested_parentheses\n"
     ]
    },
    {
     "name": "stderr",
     "output_type": "stream",
     "text": [
      "2025-04-18 11:59:36 - INFO - HTTP Request: POST https://api.openai.com/v1/chat/completions \"HTTP/1.1 200 OK\"\n"
     ]
    },
    {
     "name": "stdout",
     "output_type": "stream",
     "text": [
      "Completed: baseline\n"
     ]
    },
    {
     "name": "stderr",
     "output_type": "stream",
     "text": [
      "2025-04-18 11:59:39 - INFO - HTTP Request: POST https://api.openai.com/v1/chat/completions \"HTTP/1.1 200 OK\"\n"
     ]
    },
    {
     "name": "stdout",
     "output_type": "stream",
     "text": [
      "Completed: mixed_operations\n"
     ]
    },
    {
     "name": "stderr",
     "output_type": "stream",
     "text": [
      "2025-04-18 11:59:44 - INFO - HTTP Request: POST https://api.openai.com/v1/chat/completions \"HTTP/1.1 200 OK\"\n"
     ]
    },
    {
     "name": "stdout",
     "output_type": "stream",
     "text": [
      "Completed: scientific_notation\n"
     ]
    },
    {
     "name": "stderr",
     "output_type": "stream",
     "text": [
      "2025-04-18 11:59:45 - INFO - HTTP Request: POST https://api.openai.com/v1/chat/completions \"HTTP/1.1 200 OK\"\n"
     ]
    },
    {
     "name": "stdout",
     "output_type": "stream",
     "text": [
      "Completed: complex_fractions\n"
     ]
    },
    {
     "name": "stderr",
     "output_type": "stream",
     "text": [
      "2025-04-18 11:59:45 - INFO - HTTP Request: POST https://api.openai.com/v1/chat/completions \"HTTP/1.1 200 OK\"\n"
     ]
    },
    {
     "name": "stdout",
     "output_type": "stream",
     "text": [
      "Completed: exponents\n"
     ]
    },
    {
     "name": "stderr",
     "output_type": "stream",
     "text": [
      "2025-04-18 11:59:47 - INFO - HTTP Request: POST https://api.openai.com/v1/chat/completions \"HTTP/1.1 200 OK\"\n"
     ]
    },
    {
     "name": "stdout",
     "output_type": "stream",
     "text": [
      "Completed: complex_roots\n"
     ]
    },
    {
     "name": "stderr",
     "output_type": "stream",
     "text": [
      "2025-04-18 11:59:49 - INFO - HTTP Request: POST https://api.openai.com/v1/chat/completions \"HTTP/1.1 200 OK\"\n"
     ]
    },
    {
     "name": "stdout",
     "output_type": "stream",
     "text": [
      "Completed: trigonometry\n"
     ]
    },
    {
     "name": "stderr",
     "output_type": "stream",
     "text": [
      "2025-04-18 11:59:53 - INFO - HTTP Request: POST https://api.openai.com/v1/chat/completions \"HTTP/1.1 200 OK\"\n"
     ]
    },
    {
     "name": "stdout",
     "output_type": "stream",
     "text": [
      "Completed: logarithms\n"
     ]
    },
    {
     "name": "stderr",
     "output_type": "stream",
     "text": [
      "2025-04-18 12:00:36 - INFO - HTTP Request: POST https://api.openai.com/v1/chat/completions \"HTTP/1.1 200 OK\"\n"
     ]
    },
    {
     "name": "stdout",
     "output_type": "stream",
     "text": [
      "Completed: large_division\n"
     ]
    },
    {
     "name": "stderr",
     "output_type": "stream",
     "text": [
      "2025-04-18 12:01:24 - INFO - HTTP Request: POST https://api.openai.com/v1/chat/completions \"HTTP/1.1 200 OK\"\n"
     ]
    },
    {
     "name": "stdout",
     "output_type": "stream",
     "text": [
      "Completed: basic_arithmetic\n",
      "\n",
      "o4-mini - nested_parentheses:\n",
      "Predicted: None\n",
      "Actual: 454.0\n",
      "\n",
      "o4-mini - baseline:\n",
      "Predicted: None\n",
      "Actual: 2.0\n",
      "\n",
      "o4-mini - mixed_operations:\n",
      "Predicted: None\n",
      "Actual: 100.0\n",
      "\n",
      "o4-mini - scientific_notation:\n",
      "Predicted: None\n",
      "Actual: 1e+18\n",
      "\n",
      "o4-mini - complex_fractions:\n",
      "Predicted: None\n",
      "Actual: 0.09166666666666667\n",
      "\n",
      "o4-mini - exponents:\n",
      "Predicted: None\n",
      "Actual: 1.8446744053652326e+19\n",
      "\n",
      "o4-mini - complex_roots:\n",
      "Predicted: None\n",
      "Actual: 125.0\n",
      "\n",
      "o4-mini - trigonometry:\n",
      "Predicted: None\n",
      "Actual: -6.5068406525273135\n",
      "\n",
      "o4-mini - logarithms:\n",
      "Predicted: None\n",
      "Actual: 30.815510557964274\n",
      "\n",
      "o4-mini - large_division:\n",
      "Predicted: None\n",
      "Actual: 8000000080.900001\n",
      "\n",
      "o4-mini - basic_arithmetic:\n",
      "Predicted: None\n",
      "Actual: 2.895899854031399e+36\n",
      "\n",
      "Processing model: o3\n"
     ]
    },
    {
     "name": "stderr",
     "output_type": "stream",
     "text": [
      "2025-04-18 12:01:26 - INFO - HTTP Request: POST https://api.openai.com/v1/chat/completions \"HTTP/1.1 200 OK\"\n"
     ]
    },
    {
     "name": "stdout",
     "output_type": "stream",
     "text": [
      "Completed: nested_parentheses\n"
     ]
    },
    {
     "name": "stderr",
     "output_type": "stream",
     "text": [
      "2025-04-18 12:01:27 - INFO - HTTP Request: POST https://api.openai.com/v1/chat/completions \"HTTP/1.1 200 OK\"\n"
     ]
    },
    {
     "name": "stdout",
     "output_type": "stream",
     "text": [
      "Completed: baseline\n"
     ]
    },
    {
     "name": "stderr",
     "output_type": "stream",
     "text": [
      "2025-04-18 12:01:29 - INFO - HTTP Request: POST https://api.openai.com/v1/chat/completions \"HTTP/1.1 200 OK\"\n"
     ]
    },
    {
     "name": "stdout",
     "output_type": "stream",
     "text": [
      "Completed: mixed_operations\n"
     ]
    },
    {
     "name": "stderr",
     "output_type": "stream",
     "text": [
      "2025-04-18 12:01:32 - INFO - HTTP Request: POST https://api.openai.com/v1/chat/completions \"HTTP/1.1 200 OK\"\n"
     ]
    },
    {
     "name": "stdout",
     "output_type": "stream",
     "text": [
      "Completed: complex_fractions\n"
     ]
    },
    {
     "name": "stderr",
     "output_type": "stream",
     "text": [
      "2025-04-18 12:01:34 - INFO - HTTP Request: POST https://api.openai.com/v1/chat/completions \"HTTP/1.1 200 OK\"\n"
     ]
    },
    {
     "name": "stdout",
     "output_type": "stream",
     "text": [
      "Completed: scientific_notation\n"
     ]
    },
    {
     "name": "stderr",
     "output_type": "stream",
     "text": [
      "2025-04-18 12:01:39 - INFO - HTTP Request: POST https://api.openai.com/v1/chat/completions \"HTTP/1.1 200 OK\"\n"
     ]
    },
    {
     "name": "stdout",
     "output_type": "stream",
     "text": [
      "Completed: trigonometry\n"
     ]
    },
    {
     "name": "stderr",
     "output_type": "stream",
     "text": [
      "2025-04-18 12:01:41 - INFO - HTTP Request: POST https://api.openai.com/v1/chat/completions \"HTTP/1.1 200 OK\"\n"
     ]
    },
    {
     "name": "stdout",
     "output_type": "stream",
     "text": [
      "Completed: logarithms\n"
     ]
    },
    {
     "name": "stderr",
     "output_type": "stream",
     "text": [
      "2025-04-18 12:01:42 - INFO - HTTP Request: POST https://api.openai.com/v1/chat/completions \"HTTP/1.1 200 OK\"\n"
     ]
    },
    {
     "name": "stdout",
     "output_type": "stream",
     "text": [
      "Completed: complex_roots\n"
     ]
    },
    {
     "name": "stderr",
     "output_type": "stream",
     "text": [
      "2025-04-18 12:02:10 - INFO - HTTP Request: POST https://api.openai.com/v1/chat/completions \"HTTP/1.1 200 OK\"\n"
     ]
    },
    {
     "name": "stdout",
     "output_type": "stream",
     "text": [
      "Completed: exponents\n"
     ]
    },
    {
     "name": "stderr",
     "output_type": "stream",
     "text": [
      "2025-04-18 12:03:51 - INFO - HTTP Request: POST https://api.openai.com/v1/chat/completions \"HTTP/1.1 200 OK\"\n"
     ]
    },
    {
     "name": "stdout",
     "output_type": "stream",
     "text": [
      "Completed: large_division\n"
     ]
    },
    {
     "name": "stderr",
     "output_type": "stream",
     "text": [
      "2025-04-18 12:03:57 - INFO - HTTP Request: POST https://api.openai.com/v1/chat/completions \"HTTP/1.1 200 OK\"\n"
     ]
    },
    {
     "name": "stdout",
     "output_type": "stream",
     "text": [
      "Completed: basic_arithmetic\n",
      "\n",
      "o3 - nested_parentheses:\n",
      "Predicted: None\n",
      "Actual: 454.0\n",
      "\n",
      "o3 - baseline:\n",
      "Predicted: None\n",
      "Actual: 2.0\n",
      "\n",
      "o3 - mixed_operations:\n",
      "Predicted: None\n",
      "Actual: 100.0\n",
      "\n",
      "o3 - complex_fractions:\n",
      "Predicted: None\n",
      "Actual: 0.09166666666666667\n",
      "\n",
      "o3 - scientific_notation:\n",
      "Predicted: None\n",
      "Actual: 1e+18\n",
      "\n",
      "o3 - trigonometry:\n",
      "Predicted: None\n",
      "Actual: -6.5068406525273135\n",
      "\n",
      "o3 - logarithms:\n",
      "Predicted: None\n",
      "Actual: 30.815510557964274\n",
      "\n",
      "o3 - complex_roots:\n",
      "Predicted: None\n",
      "Actual: 125.0\n",
      "\n",
      "o3 - exponents:\n",
      "Predicted: None\n",
      "Actual: 1.8446744053652326e+19\n",
      "\n",
      "o3 - large_division:\n",
      "Predicted: None\n",
      "Actual: 8000000080.900001\n",
      "\n",
      "o3 - basic_arithmetic:\n",
      "Predicted: None\n",
      "Actual: 2.895899854031399e+36\n",
      "\n",
      "=== FINAL ANALYSIS ===\n",
      "\n",
      "o4-mini:\n",
      "Accuracy: 0.00%\n",
      "\n",
      "o3:\n",
      "Accuracy: 0.00%\n"
     ]
    }
   ],
   "source": [
    "import json\n",
    "import numpy as np\n",
    "from typing import Dict, Any\n",
    "from concurrent.futures import ThreadPoolExecutor, as_completed\n",
    "from threading import Lock\n",
    "\n",
    "from repenseai.genai.agent import Agent\n",
    "from repenseai.genai.tasks.api import Task\n",
    "from repenseai.utils.text import extract_json_text\n",
    "\n",
    "from pydantic import BaseModel\n",
    "\n",
    "class SolverResponse(BaseModel):\n",
    "    explanation: str\n",
    "    solution: float | int\n",
    "\n",
    "MODELS = [\n",
    "    \"o4-mini\",\n",
    "    \"o3\",\n",
    "]\n",
    "\n",
    "# Define equações matemáticas complexas para teste\n",
    "EQUATIONS = {\n",
    "    \"baseline\": \"1 + 1\",\n",
    "    \"basic_arithmetic\": \"2345678901234567890 * 1234567890987654321\",\n",
    "    \"nested_parentheses\": \"(((5 * 7 + 3) * 4 - 2) * 6 + 8) / 2\",\n",
    "    \"exponents\": \"2**64 + 3**21 - 5**15\",\n",
    "    \"large_division\": \"987654321987654321 / 123456789\",\n",
    "    \"mixed_operations\": \"sqrt(3**2 + 4**2) * (15 + 25) / 2\",\n",
    "    \"complex_fractions\": \"(1/3 + 2/5) * (7/8 - 3/4)\",\n",
    "    \"scientific_notation\": \"2.5e20 * 4.8e15 / 1.2e18\",\n",
    "    \"trigonometry\": \"sin(45) + cos(60) + tan(30)\",\n",
    "    \"logarithms\": \"log(1000000) + log2(256) + log10(1000000000)\",\n",
    "    \"complex_roots\": \"((sqrt(169) + sqrt(144)) * sqrt(25))\",\n",
    "}\n",
    "\n",
    "SOLVER_PROMPT = \"\"\"\n",
    "You are a mathematical expert. Solve the following equation and provide your solution and explanation.\n",
    "Always return the final numerical result (not in scientific notation).\n",
    "\n",
    "Equation: {equation}\n",
    "\n",
    "Return your response in the following JSON format:\n",
    "{\n",
    "    \"explanation\": \"Step by step explanation of how you solved it\",\n",
    "    \"solution\": <numerical_result>\n",
    "}\n",
    "\"\"\"\n",
    "\n",
    "def evaluate_equation(equation: str) -> float:\n",
    "    \"\"\"Avalia a equação usando eval() do Python com funções matemáticas do numpy\"\"\"\n",
    "    namespace = {\n",
    "        'sin': np.sin,\n",
    "        'cos': np.cos,\n",
    "        'tan': np.tan,\n",
    "        'sqrt': np.sqrt,\n",
    "        'log': np.log,\n",
    "        'log2': np.log2,\n",
    "        'log10': np.log10,\n",
    "        'pi': np.pi,\n",
    "        'e': np.e\n",
    "    }\n",
    "    return float(eval(equation, {\"__builtins__\": {}}, namespace))\n",
    "\n",
    "def check_response(predicted: int | float, actual: float) -> bool:\n",
    "    \"\"\"Check if predicted value matches actual value\"\"\"\n",
    "    if predicted == actual:\n",
    "        return True\n",
    "    return abs(predicted - actual) < 1e-10\n",
    "\n",
    "def solve_equation(agent: Agent, eq_name: str, equation: str, print_lock: Lock) -> tuple[str, str]:\n",
    "    \"\"\"Solve a single equation using the agent\"\"\"\n",
    "    task = Task(\n",
    "        user=SOLVER_PROMPT,\n",
    "        agent=agent,\n",
    "        simple_response=True\n",
    "    )\n",
    "    response = task.run({\"equation\": equation})\n",
    "    with print_lock:\n",
    "        print(f\"Completed: {eq_name}\")\n",
    "    return eq_name, response\n",
    "\n",
    "def process_model_results(model_name: str, equations_results: Dict[str, Any], actual_results: Dict[str, float]) -> Dict[str, Any]:\n",
    "    \"\"\"Process results for a single model\"\"\"\n",
    "    model_results = {}\n",
    "    \n",
    "    for eq_name, text_response in equations_results.items():\n",
    "        try:\n",
    "            json_response = extract_json_text(text_response)\n",
    "            response = json.loads(json_response)\n",
    "            predicted = float(response[\"solution\"])\n",
    "            correct = check_response(predicted, actual_results[eq_name])\n",
    "        except Exception as e:\n",
    "            predicted = None\n",
    "            correct = False\n",
    "\n",
    "        model_results[eq_name] = {\n",
    "            \"predicted\": predicted,\n",
    "            \"actual\": actual_results[eq_name],\n",
    "            \"correct\": correct\n",
    "        }\n",
    "        \n",
    "        print(f\"\\n{model_name} - {eq_name}:\")\n",
    "        print(f\"Predicted: {predicted}\")\n",
    "        print(f\"Actual: {actual_results[eq_name]}\")\n",
    "    \n",
    "    return model_results\n",
    "\n",
    "# Calculate actual results\n",
    "actual_results = {name: evaluate_equation(equation) for name, equation in EQUATIONS.items()}\n",
    "results = {}\n",
    "\n",
    "# Process each model\n",
    "for model_name in MODELS:\n",
    "    print(f\"\\nProcessing model: {model_name}\")\n",
    "    \n",
    "    agent = Agent(\n",
    "        model=model_name, \n",
    "        model_type=\"chat\",\n",
    "        json_schema=SolverResponse\n",
    "    )\n",
    "    \n",
    "    equations_results = {}\n",
    "    print_lock = Lock()\n",
    "    \n",
    "    # Create thread pool and submit tasks\n",
    "    with ThreadPoolExecutor(max_workers=5) as executor:\n",
    "        future_to_eq = {\n",
    "            executor.submit(solve_equation, agent, eq_name, equation, print_lock): eq_name \n",
    "            for eq_name, equation in EQUATIONS.items()\n",
    "        }\n",
    "        \n",
    "        # Collect results as they complete\n",
    "        for future in as_completed(future_to_eq):\n",
    "            eq_name, response = future.result()\n",
    "            equations_results[eq_name] = response\n",
    "    \n",
    "    # Process results for this model\n",
    "    results[model_name] = process_model_results(model_name, equations_results, actual_results)\n",
    "\n",
    "# Final Analysis\n",
    "print(\"\\n=== FINAL ANALYSIS ===\")\n",
    "for model_name in MODELS:\n",
    "    correct_count = sum(1 for eq_result in results[model_name].values() if eq_result[\"correct\"])\n",
    "    total_count = len(EQUATIONS)\n",
    "    accuracy = (correct_count / total_count) * 100\n",
    "    print(f\"\\n{model_name}:\")\n",
    "    print(f\"Accuracy: {accuracy:.2f}%\")"
   ]
  },
  {
   "cell_type": "code",
   "execution_count": 9,
   "id": "deedcb1e",
   "metadata": {},
   "outputs": [
    {
     "data": {
      "text/plain": [
       "{'baseline': 2.0,\n",
       " 'basic_arithmetic': 2.895899854031399e+36,\n",
       " 'nested_parentheses': 454.0,\n",
       " 'exponents': 1.8446744053652326e+19,\n",
       " 'large_division': 8000000080.900001,\n",
       " 'mixed_operations': 100.0,\n",
       " 'complex_fractions': 0.09166666666666667,\n",
       " 'scientific_notation': 1e+18,\n",
       " 'trigonometry': -6.5068406525273135,\n",
       " 'logarithms': 30.815510557964274,\n",
       " 'complex_roots': 125.0}"
      ]
     },
     "execution_count": 9,
     "metadata": {},
     "output_type": "execute_result"
    }
   ],
   "source": [
    "actual_results"
   ]
  },
  {
   "cell_type": "code",
   "execution_count": 12,
   "id": "11c0d787",
   "metadata": {},
   "outputs": [
    {
     "name": "stdout",
     "output_type": "stream",
     "text": [
      "Resultado: 81.82%\n"
     ]
    }
   ],
   "source": [
    "chatgpt = [1, 1, 1, 1, 1, 0, 0, 1, 1, 1, 1]\n",
    "print(f\"Resultado: {sum(chatgpt)/len(chatgpt):.2%}\")"
   ]
  },
  {
   "cell_type": "code",
   "execution_count": null,
   "id": "1ef05450",
   "metadata": {},
   "outputs": [],
   "source": []
  }
 ],
 "metadata": {
  "kernelspec": {
   "display_name": ".venv",
   "language": "python",
   "name": "python3"
  },
  "language_info": {
   "codemirror_mode": {
    "name": "ipython",
    "version": 3
   },
   "file_extension": ".py",
   "mimetype": "text/x-python",
   "name": "python",
   "nbconvert_exporter": "python",
   "pygments_lexer": "ipython3",
   "version": "3.12.7"
  }
 },
 "nbformat": 4,
 "nbformat_minor": 5
}
